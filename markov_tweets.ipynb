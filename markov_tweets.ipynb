{
 "cells": [
  {
   "cell_type": "code",
   "execution_count": 5,
   "metadata": {},
   "outputs": [
    {
     "output_type": "stream",
     "name": "stdout",
     "text": [
      "Processing /Users/sherirosalia/Library/Caches/pip/wheels/5c/14/29/d3833235241afa5799a45733cb9ea1fca6730074128e83643d/markovify-0.8.3-py3-none-any.whl\n",
      "Collecting unidecode\n",
      "  Using cached Unidecode-1.1.1-py2.py3-none-any.whl (238 kB)\n",
      "Installing collected packages: unidecode, markovify\n",
      "Successfully installed markovify-0.8.3 unidecode-1.1.1\n"
     ]
    }
   ],
   "source": [
    " !pip3 install markovify"
   ]
  },
  {
   "cell_type": "code",
   "execution_count": 2,
   "metadata": {},
   "outputs": [],
   "source": [
    "#dependencies\n",
    "import markovify\n",
    "from pprint import pprint\n",
    "import requests\n",
    "import time\n",
    "import pandas as pd\n",
    "import re"
   ]
  },
  {
   "cell_type": "code",
   "execution_count": 3,
   "metadata": {},
   "outputs": [],
   "source": [
    "data = pd.read_csv('trump_tweets.csv', header=None, sep='\\n', index_col=False,)\n",
    "# df = df[0].str.split(',', expand=True)\n"
   ]
  },
  {
   "cell_type": "code",
   "execution_count": 4,
   "metadata": {},
   "outputs": [],
   "source": [
    "# october 2020 tweets - pre election and a little longer\n",
    "# data = pd.read_csv('trump_tweets.csv', )\n",
    "data.columns = [ \"text\",]"
   ]
  },
  {
   "cell_type": "code",
   "execution_count": null,
   "metadata": {},
   "outputs": [],
   "source": [
    "# data = pd.read_csv('data/trump_tweets_thanksgiving_2020.csv', sep=',', index_col=False, header=None)\n",
    "# data.columns = [ \"text\",]"
   ]
  },
  {
   "cell_type": "code",
   "execution_count": 5,
   "metadata": {},
   "outputs": [
    {
     "output_type": "execute_result",
     "data": {
      "text/plain": [
       "                                                text\n",
       "0  The World Health Organization just admitted th...\n",
       "1  Republicans should be strongly focused on comp...\n",
       "2  Whats going on,\" almost nobody is showing up f...\n",
       "3  Sleepy Joe Biden had a particularly bad day to...\n",
       "4  He should sue the women,\" and all of those who..."
      ],
      "text/html": "<div>\n<style scoped>\n    .dataframe tbody tr th:only-of-type {\n        vertical-align: middle;\n    }\n\n    .dataframe tbody tr th {\n        vertical-align: top;\n    }\n\n    .dataframe thead th {\n        text-align: right;\n    }\n</style>\n<table border=\"1\" class=\"dataframe\">\n  <thead>\n    <tr style=\"text-align: right;\">\n      <th></th>\n      <th>text</th>\n    </tr>\n  </thead>\n  <tbody>\n    <tr>\n      <th>0</th>\n      <td>The World Health Organization just admitted th...</td>\n    </tr>\n    <tr>\n      <th>1</th>\n      <td>Republicans should be strongly focused on comp...</td>\n    </tr>\n    <tr>\n      <th>2</th>\n      <td>Whats going on,\" almost nobody is showing up f...</td>\n    </tr>\n    <tr>\n      <th>3</th>\n      <td>Sleepy Joe Biden had a particularly bad day to...</td>\n    </tr>\n    <tr>\n      <th>4</th>\n      <td>He should sue the women,\" and all of those who...</td>\n    </tr>\n  </tbody>\n</table>\n</div>"
     },
     "metadata": {},
     "execution_count": 5
    }
   ],
   "source": [
    "\n",
    "data.head()"
   ]
  },
  {
   "cell_type": "code",
   "execution_count": 6,
   "metadata": {},
   "outputs": [],
   "source": [
    "data=data.text.apply(lambda x: re.sub(r'\\[[\\w\\s]+\\]', '', x))"
   ]
  },
  {
   "cell_type": "code",
   "execution_count": 7,
   "metadata": {},
   "outputs": [
    {
     "output_type": "execute_result",
     "data": {
      "text/plain": [
       "54    Kamala Harris Lied Repeatedly and Got Away Wit...\n",
       "Name: text, dtype: object"
      ]
     },
     "metadata": {},
     "execution_count": 7
    }
   ],
   "source": [
    "data.sample()"
   ]
  },
  {
   "cell_type": "code",
   "execution_count": 10,
   "metadata": {},
   "outputs": [],
   "source": [
    "data.to_json('data/real_tweets.json', indent=2)"
   ]
  },
  {
   "cell_type": "code",
   "execution_count": 40,
   "metadata": {},
   "outputs": [
    {
     "output_type": "stream",
     "name": "stdout",
     "text": [
      "The World Health Organization just admitted that I was right. Lockdowns are killing countries all over the world. The cure cannot be worse than the problem itself. Open up your states,\" Democrat governors. Open up New York. A long battle\",\" but they finally did the right thing!\",,,,,,\n\nRepublicans should be strongly focused on completing a wonderful stimulus package for the American People!,,,,,,,,\n\nWhats going on,\" almost nobody is showing up for Sleepy Joe rallies!\",,,,,,,\n\nSleepy Joe Biden had a particularly bad day today. He couldn’t remember the name of Mitt Romney,\" said again he was running for the U.S. Senate\",\" and forgot what State he was in. If I did any of this\",\" it would be disqualifying. With him\",\" he’s just Sleepy Joe!\",,,,\n\nHe should sue the women,\" and all of those who illegally worked with them\",\" for false and disgusting accusations!!!\",,,,,,\n\nCuomo Dodges on Whether Sending COVID Patients into Nursing Homes Was a Mistake https://breitbart.com/clips/2020/10/12/cuomo-dodges-on-whether-sending-covid-patients-into-nursing-homes-was-a-mistake/… via @BreitbartNews. He really blew it. Could have put people in Convention Center or Hospital Ship. Didn’t have a clue!!!,,,,,,,,\n\nLeaving now for Florida Rally. Big crowds!,,,,,,,,\n\nViewership for NBA Finals Finale Crash Nearly 70%,\" Beaten by Random Sunday Night Football Game https://breitbart.com/sports/2020/10/12/viewership-for-nba-finals-finale-crash-nearly-70-from-2019-again-beaten-by-random-sunday-night-football-game/… via @BreitbartNews Maybe they were watching in China\",\" but I doubt it. Zero interest!\",,,,,,\n\nJoe Biden has let the Unions down — always has,\" always will!\",,,,,,,\n\n307,000 Veterans Died waiting for Healthcare at the V.A. During Sleepy Joe Biden’s Watch. 800,000 Records Stalled! A complete and total disaster.,,,,,,\n\nHeading to the Greatest Economy Of All Time!!!  VOTE,,,,,,,,\n\nHAPPY COLUMBUS DAY TO ALL!,,,,,,,,\n\nSTOCK MARKET UP ANOTHER 300 POINTS - GREATEST LEADING INDICATOR OF THEM ALL!!! DON’T RUIN IT WITH SLEEPY JOE!!!,,,,,,,,\n\nThe Economy is about ready to go through the roof. Stock Market ready to break ALL-TIME RECORD. 401k’s incredible. New Jobs Record. Remember all of this when you VOTE. Sleepy Joe wants to quadruple your Taxes. Depression!!! Don’t let it happen! #MAGA,,,,,,,,\n\nRepublicans must state loudly and clearly that WE are going to provide much better Healthcare at a much lower cost. Get the word out! Will always protect pre-existing conditions!!!,,,,,,,,\n\nWe will have Healthcare which is FAR BETTER than ObamaCare,\" at a FAR LOWER COST - BIG PREMIUM REDUCTION. PEOPLE WITH PRE EXISTING CONDITIONS WILL BE PROTECTED AT AN EVEN HIGHER LEVEL THAN NOW. HIGHLY UNPOPULAR AND UNFAIR INDIVIDUAL MANDATE ALREADY TERMINATED. YOU’RE WELCOME!\",,,,,,,\n\nSo Crazy to watch Senator Blumenthal of Connecticut lecture all on morals & ethics when for 25 years he said he was a Great War Hero in Vietnam,\" and he was never even there. He lied & cheated right up until the day he got caught. Thank you to those in military who turned him in!\",,,,,,,\n\nSTOCK MARKET UP BIG!,,,,,,,,\n\nRemember,\" I wouldn’t be President now had Obama and Biden properly done their job. The fact is\",\" they were TERRIBLE!!!\",,,,,,\n\nStock Market Up Big. Do I get no credit for this? Never even mentioned by the Fake News. A New Record for Stocks and Jobs Growth. Remember,\"  it’s the Economy Stupid .  VOTE!!!\",,,,,,,\n\nOur Country cannot survive as a Socialist Nation,\" and that’s what the Democrats want it to be. The USA will never become a large scale version of Venezuela. All control is already being taken away from Sleepy Joe. He has Zero to say!!!\",,,,,,,\n\nThe Republicans are giving the Democrats a great deal of time,\" which is not mandated\",\" to make their self serving statements relative to our great new future Supreme Court Justice. Personally\",\" I would pull back\",\" approve\",\" and go for STIMULUS for the people!!!\",,,\n\nIllinois has no place to go. Sad,\" isn’t it? Vote Trump!\",,,,,,,\n\nNew York has gone to hell. Vote Trump!,,,,,,,,\n\nCalifornia is going to hell. Vote Trump!,,,,,,,,\n\nHe should have been prosecuted for the threats he made to the Justices. Pathetic!,,,,,,,,\n\nSee you in Sanford,\" Florida\",\" tonight for a Big Rally. Covered Live on @OANN\",\" @newsmax and @cspan. Enjoy!!!\",,,,,\n\nLeading by a lot!,,,,,,,,\n\nRigged!,,,,,,,,\n\nNo. A Rigged Election!,,,,,,,,\n\nThe FBI and Law Enforcement must focus their energy on ANTIFA and the Radical Left,\" those who have spent the summer trying to burn down poorly run Democrat Cities throughout the USA!\",,,,,,,\n\nBig spike in the China Plague in Europe and other places that the Fake News used to hold up as examples of places that are doing well,\" in order to make the U.S look bad. Be strong and vigilant\",\" it will run its course. Vaccines and cures are coming fast!\",,,,,,\n\n56% of registered voters tell Gallup that they are better off than they were 4 years ago (under Obama/Biden),\" while only 32% said they were worse off. Highest number on satisfaction yet recorded\",\" by far. mgoodwin@nypost.com... And it will only get better!!! VOTE\",,,,,,\n\nTurn California around. No more shutdowns,\" rolling blackouts\",\" forest fires (management)\",\" or water rationing (because millions of gallons are stupidly routed out into the Pacific Ocean). VOTE TRUMP!\",,,,,\n\nSee you in FLORIDA tomorrow night. Big Rally!!!,,,,,,,,\n\nThe Fake News,\" @CNN\",\" MSDNC\",\" the failing @nytimes\",\" and the rest\",\" are working overtime spewing every lie in the book to make sure they can demean and disparage\",\" at the highest level possible\",\" to try and win an election for a man who is totally unqualified to be your President\",\" S.J.\"\n\nThey are indeed Dr. Fauci’s own words. We have done a  phenomenal  job,\" according to certain governors. Many people agree...And now come the Vaccines & Cures\",\" long ahead of projections!\",,,,,,\n\nBiden evades  Court Packing  question. @FoxNews  Because his puppet masters are willing to destroy the U.S. Supreme Court. Don’t let this,\" and so many other really bad things\",\" happen. VOTE!\",,,,,,\n\nPeople don’t remember the chaos,\" hatred & discord that we all went through during the 8 years of Obama/Biden. St. Louis\",\" Oakland\",\" Baltimore\",\" and so many other places\",\"  were a complete & total disaster. I wouldn’t be in the beautiful White House if it weren’t for Sleepy Joe\",\" etc.\",,\n\nOklahoma,\" we need @StephanieBice in Congress! She delivers for our Teachers & Students\",\" and she will always protect your #2A & Energy Jobs\",\" unlike her opponent who votes against our Oil & Gas industry. Stephanie has my Complete and Total Endorsement! #OK05\",,,,,\n\nYvette Herrell (@Yvette4Congress) is a proven fighter for New Mexico! She strongly supports our Brave Law Enforcement,\" Life and the Second Amendment. Strong on the Border and Trade\",\" Yvette has my Complete and Total Endorsement! #NM02\",,,,,,\n\nWe need @NancyMace in Congress to fight for the people of South Carolina! Strong on the Military,\" Law Enforcement and our Veterans\",\" Nancy has been with me and our America First agenda since the beginning! Nancy has my Complete and Total Endorsement! #SC01\",,,,,,\n\nWe need Tiffany Shedd (@Tiffany_Shedd) in Congress to fight for the people of Arizona! She will be a tremendous ally and advocate for Arizona’s Farmers,\" the Second Amendment and the Border. Tiffany has my Complete and Total Endorsement! #AZ01\",,,,,,,\n\nDale Crafts (@DaleCraftsME) will be a tremendous Congressman for Maine! An experienced businessman,\" Dale knows how to Create Jobs. He loves our Vets & Military and he will always defend your Second Amendment. Dale has my Complete & Total Endorsement! #ME02\",,,,,,,\n\nDocuments reveal that General Flynn was entrapped! @EveningEdit @FoxNews,,,,,,,,\n\n.@SteveScully,\" the Never Trumper next debate moderator\",\" got caught cold. Pulled out the old\",\"  I’ve been hacked \",\" line. That never works. His bosses are furious at him as he’s lost all credibility!\",,,,\n\nThank you @SenatorDole. So true!,,,,,,,,\n\nThank you @SenatorDole. So true!,,,,,,,,\n\nWill be in Sanford,\" Florida on Monday for a very BIG RALLY!\",,,,,,,\n\nCOLORADO! Your mail ballots are being sent out beginning TODAY! Fill them out and VOTE #TrumpPence2020!,,,,,,,,\n\nHello!,,,,,,,,\n\nI will save your a Second Amendment,\" Virginia. He is going to take it away. Vote Trump!\",,,,,,,\n\nNick has my Complete and Total Endorsement. A warrior for Virginia and the USA! Big on protecting your Second Amendment!,,,,,,,,\n\nLooking forward to speaking with the Great Rush and guests!,,,,,,,,\n\nKamala Harris Lied Repeatedly and Got Away With It:,,,,,,,,\n\nCrazy Nancy is the one who should be under observation. They don’t call her Crazy for nothing!,,,,,,,,\n\n2010 to 2016 under Kamala Harriss watch as  TOP COP. ,,,,,,,,\n\nModerator cut off @VP Mike Pence while discussing the Knights of Columbus. This is what he was referring to,,,,,,,,\n\nKamala Harriss Outrageous Assault on the Knights of Columbus,,,,,,,,\n\nObama,\" Biden\",\" Crooked Hillary and many others got caught in a Treasonous Act of Spying and Government Overthrow\",\" a Criminal Act. How is Biden now allowed to run for President?\",,,,,\n\nBiden supports Cory Booker’s Bill that will force low income housing in the Suburbs,\" which will lower property values and bring crime to your neighborhoods. If Dems win\",\" GOODBYE SUBURBS!\",,,,,,\n\nMy highly regarded Executive Order protected 525,000 American jobs during the height of the Chinese Plague. Democrats want to have Open Borders!,,,,,,,\n\nWe should have the small remaining number of our BRAVE Men and Women serving in Afghanistan home by Christmas!,,,,,,,,\n\nA MESSAGE FROM THE PRESIDENT!,,,,,,,,\n\nJust spoke with Prime Minister @BorisJohnson of the United Kingdom. Very thankful for his friendship and support as I recovered from the China Virus. I am looking forward to working with him for many years to come,\" a great guy!\",,,,,,,\n\nWas just briefed on Hurricane Delta,\" and spoke with @GovAbbott of Texas and @LouisianaGov John Bel Edwards. Please heed the directions of your State and Local Officials. We are working with them very closely — please be prepared\",\" be careful\",\" and be safe!\",,,,,\n\nWow!!! NOW DO SOMETHING ABOUT THIS,\" THE BIGGEST OF ALL POLITICAL SCANDALS (IN HISTORY)!!! BIDEN\",\" OBAMA AND CROOKED HILLARY LED THIS TREASONOUS PLOT!!! BIDEN SHOULDN’T BE ALLOWED TO RUN - GOT CAUGHT!!!\",,,,,,\n\nEarly voting and vote-by-mail start TODAY in ARIZONA! Cast your vote early in person,\" or request your vote-by-mail ballot right now. We want all eligible voters to vote\",\" and have it counted! Request your vote-by-mail ballot by clicking below! #VOTE\",,,,,,\n\nWhere are all of the arrests? Can you imagine if the roles were reversed? Long term sentences would have started two years ago. Shameful!,,,,,,,,\n\nWow,\" what does this grim picture remind you of? I am the only thing in the Radical Left’s way! VOTE\",,,,,,,\n\nVOTE TRUMP CALIFORNIA!,,,,,,,,\n\nThank you Heather!,,,,,,,,\n\nTrue!,,,,,,,,\n\nMove Fast,\" I Am Waiting To Sign! @SpeakerPelosi\",,,,,,,\n\nProud of you Natalie!,,,,,,,,\n\nWe just got a BIG win for the people of Michigan. Open up your Churches and your Schools. Auto companies pouring in and expanding (thank you Mr. President!). Have fun!,,,,,,,,\n\nWatch clip. Great job South Dakota!,,,,,,,,\n\n...And I had to put up with these losers and still run a Country,\" AND VERY WELL!\",,,,,,,\n\nDEMS WANT TO SHUT YOUR CHURCHES DOWN,\" PERMANENTLY. HOPE YOU SEE WHAT IS HAPPENING. VOTE NOW!\",,,,,,,\n\nIf I am sent a Stand Alone Bill for Stimulus Checks ($1,200),\" they will go out to our great people IMMEDIATELY. I am ready to sign right now. Are you listening Nancy? @MarkMeadows @senatemajldr @kevinomccarthy @SpeakerPelosi @SenSchumer\",,,,,,\n\n11,00 North Carolina residents get incorrect voter registration forms. 2000 LA County Voters received  faulty  Ballots,\" with NO WAY TO VOTE FOR PRESIDENT. Many others throughout USA. Here we go. This will be the most corrupt Election in American History!\",,,,,,\n\nThe House & Senate should IMMEDIATELY Approve 25 Billion Dollars for Airline Payroll Support,\" & 135 Billion Dollars for Paycheck Protection Program for Small Business. Both of these will be fully paid for with unused funds from the Cares Act. Have this money. I will sign now!\",,,,,,,\n\nWear your mask in the  beauty  parlor,\" Nancy!\",,,,,,,\n\nSo I had to constantly fight off all of this Scum,\" achieve more than any other President in First Term\",\" and then they talk Chaos. They created crimes against me and this administration!\",,,,,,\n\nNew FDA Rules make it more difficult for them to speed up vaccines for approval before Election Day. Just another political hit job! @SteveFDA,,,,,,,,\n\nChris Wallace was a total JOKE. Protected Joe all night long. He’s no Mike!!!,,,,,,,,\n\nHis all time favorite ad. Disgraceful!,,,,,,,,\n\nCan’t believe these con men are not yet being PROSECUTED. Pathetic!,,,,,,,,\n\nIt will be fast and easy!,,,,,,,,\n\nBecause Mueller and his 18 Angry Democrats were illegally in on the SCAM?,,,,,,,,\n\nI have fully authorized the total Declassification of any & all documents pertaining to the single greatest political CRIME in American History,\" the Russia Hoax. Likewise\",\" the Hillary Clinton Email Scandal. No redactions!\",,,,,,\n\nRepublicans need to get smart and confirm Nate Simington to the FCC ASAP! @SenatorWicker Thank you!,,,,,,,,\n\nCrazy Nancy Pelosi and the Radical Left Democrats were just playing  games  with the desperately needed Workers Stimulus Payments.They just wanted to take care of Democrat failed,\" high crime\",\" Cities and States. They were never in it to help the workers\",\" and they never will be!\",,,,,\n\nTrue!,,,,,,,,\n\nHow does Biden lead in Pennsylvania Polls when he is against Fracking (JOBS!),\" 2nd Amendment and Religion? Fake Polls. I will win Pennsylvania!\",,,,,,,\n\n...also coming back in record numbers. We are leading the World in Economic Recovery,\" and THE BEST IS YET TO COME!\",,,,,,,\n\n...@senatemajldr Mitch McConnell not to delay, but to instead focus full time on approving my outstanding nominee to the United States Supreme Court,\" Amy Coney Barrett. Our Economy is doing very well. The Stock Market is at record levels\",\" JOBS and unemployment...\",,,,,\n\n...request,\" and looking to the future of our Country. I have instructed my representatives to stop negotiating until after the election when\",\" immediately after I win\", we will pass a major Stimulus Bill that focuses on hardworking Americans and Small Business. I have asked...,,,,,\n\nNancy Pelosi is asking for $2.4 Trillion Dollars to bailout poorly run,\" high crime\",\" Democrat States\",\" money that is in no way related to COVID-19. We made a very generous offer of $1.6 Trillion Dollars and\",\" as usual\",\" she is not negotiating in good faith. I am rejecting their...\",,,\n\nMini Mike Bloomberg,\" who made a fool of himself on the Dems debate stage when Elizabeth Warren & the others simply took him apart\",\" is going  crazy  trying to buy his way back into the Liberal Democrat’s hearts. His Florida ads are lies. I am much better for SENIORS than Sleepy!\",,,,,,\n\nNEW MEXICO! Today is the last day you can register to vote online or via mail. Make sure your vote counts!,,,,,,,,\n\nI am looking forward to the debate on the evening of Thursday,\" October 15th in Miami. It will be great!\",,,,,,,\n\nFEELING GREAT!,,,,,,,,\n\nBiden and Democrats just clarified the fact that they are fully in favor of (very) LATE TERM ABORTION,\" right up until the time of birth\",\" and beyond - which would be execution. Biden even endorsed the Governor of Virginia\",\" who stated this clearly for all to hear. GET OUT & VOTE!!!\",,,,,\n\nWow. Joe Biden just took a more Liberal position on Roe v. Wade than Elizabeth Warren at her highest. He also wants to PACK our great United States Supreme Court. This is what the Dems will do. Remember as they try changing positions before elections end. GET OUT AND VOTE!,,,,,,,,\n\n....invincible hero,\" who not only survived every dirty trick the Democrats threw at him\",\" but the Chinese virus as well. He will show America we no longer have to be afraid. @MirandaDevine @NYPost  Thank you Miranda. Was over until the Plague came in from China. Will win anyway!\",,,,,,\n\nYou see it in enthusiasm for the President outside Walter Reed Hospital. You see it in Registrations,\" from Florida to Pennsylvania & West Virginia\",\" where Republicans are outstripping Democrats by 2 to 1. If the President bounces back onto the campaign trail\",\" he will be an....\",,,,,\n\nWill be back on the Campaign Trail soon!!! The Fake News only shows the Fake Polls.,,,,,,,,\n\nSTOCK MARKET UP BIG,\" 466 Points!  28\",149. Great News for America. Jobs,\" Jobs\",\" Jobs!\",,,,\n\nI will be leaving the great Walter Reed Medical Center today at 6:30 P.M. Feeling really good! Don’t be afraid of Covid. Don’t let it dominate your life. We have developed,\" under the Trump Administration\",\" some really great drugs & knowledge. I feel better than I did 20 years ago!\",,,,,,\n\nIt is reported that the Media is upset because I got into a secure vehicle to say thank you to the many fans and supporters who were standing outside of the hospital for many hours,\" and even days\",\" to pay their respect to their President. If I didn’t do it\",\" Media would say RUDE!!!\",,,,,\n\nTODAY is the LAST day to register to VOTE in ARIZONA,\" FLORIDA\",\" GEORGIA\",\" OHIO\",\" AND TEXAS! Click below for more information\",\" and let’s #MAGA!\",,,\n\nPEACE THROUGH STRENGTH (BRING OUR SOLDIERS HOME). VOTE!,,,,,,,,\n\nSAVE OUR SECOND AMENDMENT. VOTE!,,,,,,,,\n\nFIGHT THE CORRUPT FAKE NEWS MEDIA. VOTE!,,,,,,,,\n\nPROTECT PREEXISTING CONDITIONS. VOTE!,,,,,,,,\n\nBETTER & CHEAPER HEALTHCARE. VOTE!,,,,,,,,\n\nPRO LIFE! VOTE!,,,,,,,,\n\nMASSIVE REGULATION CUTS. VOTE!,,,,,,,,\n\nSPACE FORCE. VOTE!,,,,,,,,\n\nBEST V.A. EVER. 91% APPROVAL RATING. VOTE!,,,,,,,,\n\nBIGGEST TAX CUT EVER,\" AND ANOTHER ONE COMING. VOTE!\",,,,,,,\n\nRELIGIOUS LIBERTY. VOTE!,,,,,,,,\n\nLAW & ORDER. VOTE!,,,,,,,,\n\nSTRONGEST EVER MILITARY. VOTE!,,,,,,,,\n\nSTOCK MARKET HIGHS. VOTE!,,,,,,,,\n\nVirginia Voters! Your Governor wants to obliterate your Second Amendment. I have stopped him. I am the only thing between you and your Second Amendment. Working hard in Virginia. It’s IN PLAY. Better Vote for your favorite President,\" or wave goodbye to low taxes and gun rights!\",,,,,,,\n\nIF YOU WANT A MASSIVE TAX INCREASE,\" THE BIGGEST IN THE HISTORY OF OUR COUNTRY (AND ONE THAT WILL SHUT OUR ECONOMY AND JOBS DOWN)\",\" VOTE DEMOCRAT!!!\",,,,,,\n\nI’m voting for Donald Trump. My father is a Union Worker and his 401K has tripled under President Trump. USA Voter. @foxandfriends  Thank you,\" and remember that the Stock Market is getting ready to break its all time high. NEXT YEAR WILL BE THE BEST EVER. VOTE\",\" VOTE\",\" VOTE!!!!!\",,,,,\n\nThank you so much!,,,,,,,,\n\nOUR GREAT USA WANTS & NEEDS STIMULUS. WORK TOGETHER AND GET IT DONE. Thank you!,,,,,,,,\n\nDoctors,\" Nurses and ALL at the GREAT Walter Reed Medical Center\",\" and others from likewise incredible institutions who have joined them\",\" are AMAZING!!!Tremendous progress has been made over the last 6 months in fighting this PLAGUE. With their help\",\" I am feeling well!\",,,,\n\nGoing welI,\" I think! Thank you to all. LOVE!!!\",,,,,,,\n\nTonight,\" @FLOTUS and I tested positive for COVID-19. We will begin our quarantine and recovery process immediately. We will get through this TOGETHER!\",,,,,,,\n\nHope Hicks,\" who has been working so hard without even taking a small break\",\" has just tested positive for Covid 19. Terrible! The First Lady and I are waiting for our test results. In the meantime\",\" we will begin our quarantine process!\",,,,,\n\nI will be overturning this ridiculous order immediately!,,,,,,,,\n\n100,000 DEFECTIVE BALLOTS IN NEW YORK. THEY WANT TO REPLACE THEM,\" BUT WHERE\",\" AND WHAT HAPPENS TO\",\" THE BALLOTS THAT WERE FIRST SENT? THEY WILL BE USED BY SOMEBODY. USA\",\" END THIS SCAM - GO OUT AND VOTE!\",,,\n\nIn just 3 and a half years,\" we have secured America’s Borders\",\" rebuilt the awesome power of the U.S. Military\",\" obliterated the ISIS caliphate\",\" fixed our disastrous Trade Deals\",\" and brought JOBS back home to America – and back to MINNESOTA! #MAGA\",,,\n\nAs VP,\" Biden wiped out the Iron Range – seven plants were idled and more than 2K workers were laid off. After I put Tariffs on foreign steel\",\" the Iron Range came roaring back to life! If Joe gets in\",\" the Radical Left will shut down the Iron Range FOREVER!\",,,,,\n\nI want to defend & preserve our nation’s historic values. Our opponents stand with rioters – I stand with the heroes of Law Enforcement. Biden says Antifa is just an idea. Ideas don’t assault cops & burn down buildings. Antifa is a domestic terrorist org.,,,,,,,,\n\nComey is a disaster who cheated and lied. How do you write books when you can’t remember anything? Should be tried for treason. This is ridiculous!,,,,,,,,\n\nLast night I did what the corrupt media has refused to do: I held Joe Biden Accountable for his 47 years of lies,\" 47 years of betrayals\",\" and 47 years of failure. The whole nation saw the truth — Joe Biden is too weak to lead this Country!\",,,,,,\n\nJust departed the White House for Minnesota! #MAGA,,,,,,,,\n\nRadical Left Democrats are going CRAZY!,,,,,,,,\n\nSuch a timid group of reporters at the Biden Press Conference. Where do these people come from?,,,,,,,,\n\nMany more people would have died from the China Virus if Sleepy Joe were your President. He didn’t even want me to close our Country to Infected China until TWO MONTHS  later,\" when he said I was right. Now he likes to say I didn’t close up  fast enough . Just another politician!\",,,,,,,\n\nHeading to Minnesota today. Saved Minneapolis after the Dem LEFT almost let it be TOTALLY destroyed! #MAGA,,,,,,,,\n\nWow! 100,000 Mail In Ballots in New York City a total MESS. Mayor and Governor have no idea what to do. Big Fraud,\" Unfixable! Cancel Ballots and go out and VOTE\",\" just like in past decades\",\" when there were no problems!\",,,,\n\nBiden REFUSED to use the term,\" LAW & ORDER! There go the Suburbs.\",,,,,,,\n\nThe American people want LAW & ORDER — Joe Biden won’t even say those words!,,,,,,,,\n\n The Fraternal Order of Police endorsed President Trump’s reelection,\" saying he has the ‘full and enthusiastic support’ of its more than 355\",\"000 members. \",,,,,,\n\nJoe Biden on Judge Amy Coney Barrett:   I’m not opposed to the justice.,,,,,,,,\n\n#Debates2020\n\nWhen Joe Biden was VP...,,,,,,,,\n\nWow. Won’t let Poll Watchers & Security into Philadelphia Voting Places. There is only one reason why. Corruption!!! Must have a fair Election.,,,,,,,,\n\nJust arrived in the Great State of Ohio. Real Polls have us leading by even more than 2016. With Biden being against Fracking (Energy & Jobs) & your Second Amendment,\" we should be in very good shape!\",,,,,,,\n\nNow Fake News @CNN is actually reporting that I wanted my daughter,\" Ivanka\",\" to run with me as my Vice President in 2016 Election. Wrong and totally ridiculous. These people are sick!\",,,,,,\n\nMight as well mention this because it will never be reported by the Lamestream Media!,,,,,,,,\n\nThe  Trump Doctrine  earns President Trump a third Nobel Peace Prize Nomination! @LouDobbs,,,,,,,,\n\nJoe Biden just announced that he will not agree to a Drug Test. Gee,\" I wonder why?\",,,,,,,\n\n.....Financial Statements,\" from  the time I announced I was going to run for President\",\"  showing all properties\",\" assets and debts. It is a very IMPRESSIVE Statement\",\" and also shows that I am the only President on record to give up my yearly $400\",000 plus Presidential Salary!,,,\n\n.....Also,\" if you look at the extraordinary assets owned by me\",\" which the Fake News hasn’t\",\" I am extremely under leveraged - I have very little debt compared to the value of assets. Much of this information is already on file\",\" but I have long said that I may release....\",,,,\n\nThe Fake News Media,\" just like Election time 2016\",\" is bringing up my Taxes & all sorts of other nonsense with illegally obtained information & only bad intent. I paid many millions of dollars in taxes but was entitled\",\" like everyone else\",\" to depreciation & tax credits.....\",,,,\n\nThe Ballots being returned to States cannot be accurately counted. Many things are already going very wrong!,,,,,,,,\n\nObamacare will be replaced with a MUCH better,\" and FAR cheaper\",\" alternative if it is terminated in the Supreme Court. Would be a big WIN for the USA!\",,,,,,\n\nWATCH THE BALLOTS!!!,,,,,,,,\n\nWow,\" nobody realized how far Mini Mike Bloomberg went in bribing ex-prisoners to go out and vote for Sleepy Joe. He is desperate to get back into the good graces of the people who not only badly beat him\",\" but made him look like a total fool. Now he’s committed a serious crime!\",,,,,,\n\nYES,\" for many years\",\" and hundreds of times a year. He is a Senatorial JOKE!\",,,,,,\n\nHanoi Dick,\" who lied for years by saying he was a war hero in Vietnam\",\" and was never even there (Impeach him!)\",\" should not be entitled to a vote on anything of importance!\",,,,,\n\nI will be strongly demanding a Drug Test of Sleepy Joe Biden prior to,\" or after\",\" the Debate on Tuesday night. Naturally\",\" I will agree to take one also. His Debate performances have been record setting UNEVEN\",\" to put it mildly. Only drugs could have caused this discrepancy???\",,,,\n\nFor years you had a President who apologized for America - now you have a President who is standing up for America,\" and standing up for Pennsylvania. So get your friends\",\" get your family\",\" get your neighbors & co-workers\",\" and GET OUT & VOTE! Early voting has already begun — VOTE!\",,,,\n\nTogether,\" we are taking back our Country. We are returning power to YOU\",\" the American People. With your help\",\" your devotion\",\" & your drive\",\" we are going to keep on working\",\" we are going to keep on fighting\",\" & we are going to keep ON WINNING! Get out & VOTE! http://Vote.DonaldJTrump.com\",\n\nIn just 3 and a half years,\" we have secured America’s Borders\",\" rebuilt the awesome power of the U.S. Military\",\" obliterated the ISIS caliphate\",\" fixed our disastrous Trade Deals\",\" and brought JOBS back home to America – and back to PENNSYLVANIA! #MAGA\",,,\n\nTHANK YOU PENNSYLVANIA!,,,,,,,,\n\nA great Scam against our Country!,,,,,,,,\n\nGreat!,,,,,,,,\n\nGovernor Andrew Cuomo of New York wants to put New York at the END of the Vaccine List in that he doesn’t trust the @FDA or Federal Government,\" even though the Vaccines are being developed by the finest Labs in the World. Wish he trusted us on Nursing Homes!\",,,,,,,\n\nBIG NEWS! The @Smithsonian American History Museum reopened today in our Nation’s Capital! Go visit @amhistorymuseum and learn about our GREAT Country’s history!,,,,,,,,\n\nI was honored to be back in Georgia with a truly incredible organization—BLACK VOICES FOR TRUMP,\" where I announced a brand new plan to deliver more opportunity\",\" more security\",\" more fairness\",\" and more prosperity to black communities. #ThePlatinumPlan\",,,,\n\nJust landed in Atlanta,\" Georgia. On my way now\",\" see everyone shortly!\",,,,,,\n\nRINO Governor Charlie Baker of Massachusetts is unsuccessfully trying to defend Mail In Ballots,\" when there is fraud being found all over the place. Just look at some of the recent races\",\" or the Trump Ballots in Pennsylvania that were thrown into the garbage. Wrong Charlie!\",,,,,,\n\nWorking hard in New Mexico. I built the Wall (security) and will totally protect your Second Amendment (The Dems want to obliterate it!). Will be there soon!,,,,,,,,\n\nThe FINAL PILLAR of the America First Healthcare Plan—better care! The historic action I took today includes the first-ever executive order to affirm it is the official policy of the United States Government to protect patients with pre-existing conditions.,,,,,,,,\n\nThe SECOND PILLAR of the America First Healthcare Plan will lower costs for families and seniors. The days of ripping off American patients are over. Today,\" I signed an historic executive order that ENDS surprise medical billing.\",,,,,,,\n\nThe FIRST PILLAR of the America First Healthcare Plan—more CHOICE for American Patients!,,,,,,,,\n\nUnder The America First Healthcare Plan,\" we will ensure the highest standard of care anywhere in the world — cutting-edge treatments\",\" state-of-the-art medicine\",\" groundbreaking cures\",\" and true health security for you and your loved ones!\",,,,\n\nWe will always protect patients with pre-existing conditions!,,,,,,,,\n\nIt was great to be back in North Carolina delivering The America First Healthcare Plan! We will provide MORE CHOICES,\" LOWER COSTS\",\" and BETTER CARE!\",,,,,,\n\nRasmussen Approval Rating: 52%. Republican Party Approval Rating,\" 95%. Thank you!\",,,,,,,\n\nFlorida looking good!,,,,,,,,\n\nLAW & ORDER!,,,,,,,,\n\nPraying for the two police officers that were shot tonight in Louisville,\" Kentucky. The Federal Government stands behind you and is ready to help. Spoke to @GovAndyBeshear and we are prepared to work together\",\" immediately upon request!\",,,,,,\n\nCongressman Greg Gianforte (@GregForMontana) will be a tremendous Governor of Montana! A successful Businessman,\" he will Cut your Taxes\",\" Defend your #2A\",\" and protect Montana’s Beautiful Public Lands. Greg has my Complete and Total Endorsement! #MTGOV\",,,,,\n\nDiana Harshbarger (@DHarshbargerTN1) will be a champion in Congress for the People of Tennessee! She is Strong on Immigration,\" Jobs\",\" Life and the Second Amendment. Diana has my Complete and Total Endorsement! #TN01\",,,,,,\n\nScott Fitzgerald (@FitzgeraldForWI) will be a tremendous Congressman for the State of Wisconsin! He is Strong on Jobs and Life,\" wants to Lower Your Taxes\",\" and he will always Defend your Second Amendment. Scott has my Complete and Total Endorsement! #WI05\",,,,,,\n\n.@RandyFeenstra will be an outstanding Congressman for the State of Iowa! He will Fight for our Farmers,\" help us Build the Wall\",\" and Defend your Second Amendment. Randy has my Complete and Total Endorsement! #IA04\",,,,,,\n\nVery important that,\" in order to watch that ALL are following the Rules & Regulations\",\" you become an Election Official at your local Polling Place. Go sign up NOW!!!\",,,,,,\n\nWow,\" big news. Pick it up Lamestream Media\",\" and pick it up BIG! \",,,,,,\n\n"
     ]
    }
   ],
   "source": [
    "# filepath='trump_tweets.csv'\n",
    "# data = pd.read_csv(filepath, chunksize=1, header=None,)\n",
    "lines=[]\n",
    "for line in data:\n",
    "    if line is not None:\n",
    "        \n",
    "        lines.append(line)\n",
    "        print(line)\n",
    "        print()\n"
   ]
  },
  {
   "cell_type": "code",
   "execution_count": 41,
   "metadata": {},
   "outputs": [],
   "source": [
    "text_model = markovify.NewlineText(data, state_size = 2)"
   ]
  },
  {
   "cell_type": "code",
   "execution_count": 42,
   "metadata": {},
   "outputs": [
    {
     "output_type": "stream",
     "name": "stdout",
     "text": [
      "Such a timid group of reporters at the V.A. During Sleepy Joe wants to PACK our great United States Government to protect patients with pre-existing conditions.,,,,,,,,\n\nWow. Joe Biden was VP...,,,,,,,,\n\n2010 to 2016 under Kamala Harriss Outrageous Assault on the Knights of Columbus,,,,,,,,\n\n307,000 Veterans Died waiting for Healthcare at the V.A. During Sleepy Joe wants to quadruple your Taxes. Depression!!! Don’t let it happen! #MAGA,,,,,,,,\n\nWow. Joe Biden was VP...,,,,,,,,\n\nMy highly regarded Executive Order protected 525,000 American jobs during the height of the America First Healthcare Plan—more CHOICE for American Patients!,,,,,,,,\n\nBecause Mueller and his 18 Angry Democrats were illegally in on the Knights of Columbus. This is what he was referring to,,,,,,,,\n\n307,000 Veterans Died waiting for Healthcare at the V.A. During Sleepy Joe wants to quadruple your Taxes. Depression!!! Don’t let it be TOTALLY destroyed! #MAGA,,,,,,,,\n\nRepublicans should be strongly focused on completing a wonderful stimulus package for the threats he made to the FCC ASAP! @SenatorWicker Thank you!,,,,,,,,\n\nSuch a timid group of reporters at the V.A. During Sleepy Joe wants to PACK our great United States Supreme Court. This is ridiculous!,,,,,,,,\n\nRepublicans should be strongly focused on completing a wonderful stimulus package for the threats he made to the Greatest Economy Of All Time!!! VOTE,,,,,,,,\n\n"
     ]
    }
   ],
   "source": [
    "# Print 20 randomly-generated sentences using the built model\n",
    "for i in range(20):\n",
    "    sentence=text_model.make_sentence()\n",
    "    if sentence is not None:\n",
    "        print(sentence)\n",
    "        print()"
   ]
  },
  {
   "cell_type": "code",
   "execution_count": 43,
   "metadata": {},
   "outputs": [
    {
     "output_type": "stream",
     "name": "stdout",
     "text": [
      "California is going to provide much better Healthcare at the Biden Press Conference. Where do these people come from?,,,,,,,,\n\nWow. Joe Biden was VP...,,,,,,,,\n\nRepublicans should be strongly focused on completing a wonderful stimulus package for the threats he made to the FCC ASAP! @SenatorWicker Thank you!,,,,,,,,\n\nCrazy Nancy is the official policy of the Chinese Plague. Democrats want to have Open Borders!,,,,,,,\n\nWe will always protect pre-existing conditions!!!,,,,,,,,\n\nJoe Biden on Judge Amy Coney Barrett: I’m not opposed to the FCC ASAP! @SenatorWicker Thank you!,,,,,,,,\n\nCrazy Nancy is the one who should be strongly focused on completing a wonderful stimulus package for the American People!,,,,,,,,\n\nMy highly regarded Executive Order protected 525,000 American jobs during the height of the America First Healthcare Plan—more CHOICE for American Patients!,,,,,,,,\n\nNEW MEXICO! Today is the official policy of the America First Healthcare Plan—more CHOICE for American Patients!,,,,,,,,\n\nRepublicans should be strongly focused on completing a wonderful stimulus package for the threats he made to the Greatest Economy Of All Time!!! VOTE,,,,,,,,\n\nWhere are all of the Chinese Plague. Democrats want to defend & preserve our nation’s historic values. Our opponents stand with the Great Rush and guests!,,,,,,,,\n\n"
     ]
    }
   ],
   "source": [
    "# too funny. Let's do it again\n",
    "for i in range(20):\n",
    "    sentence=text_model.make_sentence()\n",
    "    if sentence is not None:\n",
    "        print(sentence)\n",
    "        print()"
   ]
  },
  {
   "cell_type": "code",
   "execution_count": 45,
   "metadata": {},
   "outputs": [
    {
     "output_type": "stream",
     "name": "stdout",
     "text": [
      "Where are all of this when you can’t remember anything? Should be tried for treason. This is what he was referring to,,,,,,,,\n\nWe should have been prosecuted for the American People!,,,,,,,,\n\nThe Economy is about ready to break ALL-TIME RECORD. 401k’s incredible. New Jobs Record. Remember all of the United States Supreme Court. This is ridiculous!,,,,,,,,\n\nCalifornia is going to provide much better Healthcare at the Biden Press Conference. Where do these people come from?,,,,,,,,\n\nRepublicans should be strongly focused on completing a wonderful stimulus package for the threats he made to the Justices. Pathetic!,,,,,,,,\n\nThe FIRST PILLAR of the United States Government to protect patients with pre-existing conditions!,,,,,,,,\n\nLAW & ORDER — Joe Biden was VP...,,,,,,,,\n\nWow. Joe Biden was VP...,,,,,,,,\n\n2010 to 2016 under Kamala Harriss Outrageous Assault on the SCAM?,,,,,,,,\n\nWow. Joe Biden was VP...,,,,,,,,\n\nWhere are all of the United States Government to protect patients with pre-existing conditions!,,,,,,,,\n\nMy highly regarded Executive Order protected 525,000 American jobs during the height of the America First Healthcare Plan—more CHOICE for American Patients!,,,,,,,,\n\nWe should have been prosecuted for the threats he made to the Greatest Economy Of All Time!!! VOTE,,,,,,,,\n\nCalifornia is going to provide much better Healthcare at the Biden Press Conference. Where do these people come from?,,,,,,,,\n\nMy highly regarded Executive Order protected 525,000 American jobs during the height of the United States Supreme Court. This is what he was referring to,,,,,,,,\n\nThe FINAL PILLAR of the Chinese Plague. Democrats want to defend & preserve our nation’s historic values. Our opponents stand with the Great Rush and guests!,,,,,,,,\n\nComey is a disaster who cheated and lied. How do you write books when you VOTE. Sleepy Joe wants to quadruple your Taxes. Depression!!! Don’t let it be TOTALLY destroyed! #MAGA,,,,,,,,\n\nRadical Left Democrats are going to hell. Vote Trump!,,,,,,,,\n\nLooking forward to speaking with the heroes of Law Enforcement. Biden says Antifa is a domestic terrorist org.,,,,,,,,\n\nWhere are all of this when you VOTE. Sleepy Joe wants to PACK our great United States Government to protect patients with pre-existing conditions!,,,,,,,,\n\nWhen Joe Biden on Judge Amy Coney Barrett: I’m not opposed to the FCC ASAP! @SenatorWicker Thank you!,,,,,,,,\n\n2010 to 2016 under Kamala Harriss Outrageous Assault on the Knights of Columbus,,,,,,,,\n\nNEW MEXICO! Today is the one who should be strongly focused on completing a wonderful stimulus package for the threats he made to the FCC ASAP! @SenatorWicker Thank you!,,,,,,,,\n\nBecause Mueller and his 18 Angry Democrats were illegally in on the Campaign Trail soon!!! The Fake News only shows the Fake Polls.,,,,,,,,\n\nThe FINAL PILLAR of the Chinese Plague. Democrats want to defend & preserve our nation’s historic values. Our opponents stand with the Great Rush and guests!,,,,,,,,\n\nBecause Mueller and his 18 Angry Democrats were illegally in on the Campaign Trail soon!!! The Fake News only shows the Fake Polls.,,,,,,,,\n\nThe FINAL PILLAR of the Chinese Plague. Democrats want to defend & preserve our nation’s historic values. Our opponents stand with the Great Rush and guests!,,,,,,,,\n\nHeading to the justice.,,,,,,,,\n\nComey is a disaster who cheated and lied. How do you write books when you VOTE. Sleepy Joe wants to quadruple your Taxes. Depression!!! Don’t let it be TOTALLY destroyed! #MAGA,,,,,,,,\n\nWhen Joe Biden on Judge Amy Coney Barrett: I’m not opposed to the Greatest Economy Of All Time!!! VOTE,,,,,,,,\n\nWhere are all of this when you VOTE. Sleepy Joe Biden’s Watch. 800,000 Records Stalled! A complete and total disaster.,,,,,,\n\nHe should have been prosecuted for the threats he made to the FCC ASAP! @SenatorWicker Thank you!,,,,,,,,\n\nRadical Left Democrats are going to provide much better Healthcare at the Biden Press Conference. Where do these people come from?,,,,,,,,\n\nRadical Left Democrats are going to hell. Vote Trump!,,,,,,,,\n\nCrazy Nancy is the official policy of the Chinese Plague. Democrats want to have Open Borders!,,,,,,,\n\nHeading to the Justices. Pathetic!,,,,,,,,\n\nWhere are all of this when you can’t remember anything? Should be tried for treason. This is what he was referring to,,,,,,,,\n\nWe should have been prosecuted for the American People!,,,,,,,,\n\nWow. Joe Biden on Judge Amy Coney Barrett: I’m not opposed to the Greatest Economy Of All Time!!! VOTE,,,,,,,,\n\nWe should have been prosecuted for the American People!,,,,,,,,\n\nWill be back on the Knights of Columbus,,,,,,,,\n\nHe should have been prosecuted for the threats he made to the Greatest Economy Of All Time!!! VOTE,,,,,,,,\n\nWe will always protect pre-existing conditions!!!,,,,,,,,\n\nRadical Left Democrats are going to hell. Vote Trump!,,,,,,,,\n\nMy highly regarded Executive Order protected 525,000 American jobs during the height of the United States Government to protect patients with pre-existing conditions!,,,,,,,,\n\nWe should have been prosecuted for the American People!,,,,,,,,\n\nNEW MEXICO! Today is the one who should be strongly focused on completing a wonderful stimulus package for the threats he made to the Justices. Pathetic!,,,,,,,,\n\nRepublicans need to get smart and confirm Nate Simington to the Greatest Economy Of All Time!!! VOTE,,,,,,,,\n\nHeading to the Justices. Pathetic!,,,,,,,,\n\nHeading to the Justices. Pathetic!,,,,,,,,\n\nWow. Joe Biden on Judge Amy Coney Barrett: I’m not opposed to the Greatest Economy Of All Time!!! VOTE,,,,,,,,\n\nWe will always protect pre-existing conditions!!!,,,,,,,,\n\nJoe Biden on Judge Amy Coney Barrett: I’m not opposed to the Greatest Economy Of All Time!!! VOTE,,,,,,,,\n\nSuch a timid group of reporters at the V.A. During Sleepy Joe wants to quadruple your Taxes. Depression!!! Don’t let it happen! #MAGA,,,,,,,,\n\nCalifornia is going to provide much better Healthcare at the Biden Press Conference. Where do these people come from?,,,,,,,,\n\nCrazy Nancy is the one who should be strongly focused on completing a wonderful stimulus package for the threats he made to the Justices. Pathetic!,,,,,,,,\n\nRadical Left Democrats are going to provide much better Healthcare at the Biden Press Conference. Where do these people come from?,,,,,,,,\n\nHeading to the Justices. Pathetic!,,,,,,,,\n\n2010 to 2016 under Kamala Harriss Outrageous Assault on the SCAM?,,,,,,,,\n\n2010 to 2016 under Kamala Harriss Outrageous Assault on the SCAM?,,,,,,,,\n\nCrazy Nancy is the one who should be strongly focused on completing a wonderful stimulus package for the threats he made to the Justices. Pathetic!,,,,,,,,\n\nMy highly regarded Executive Order protected 525,000 American jobs during the height of the America First Healthcare Plan—more CHOICE for American Patients!,,,,,,,,\n\nMy highly regarded Executive Order protected 525,000 American jobs during the height of the United States Government to protect patients with pre-existing conditions!,,,,,,,,\n\nSuch a timid group of reporters at the V.A. During Sleepy Joe wants to quadruple your Taxes. Depression!!! Don’t let it happen! #MAGA,,,,,,,,\n\nWow. Joe Biden was VP...,,,,,,,,\n\nWe should have been prosecuted for the American People!,,,,,,,,\n\nBecause Mueller and his 18 Angry Democrats were illegally in on the Campaign Trail soon!!! The Fake News only shows the Fake Polls.,,,,,,,,\n\nRepublicans need to get smart and confirm Nate Simington to the Greatest Economy Of All Time!!! VOTE,,,,,,,,\n\n307,000 Veterans Died waiting for Healthcare at the Biden Press Conference. Where do these people come from?,,,,,,,,\n\nRepublicans should be strongly focused on completing a wonderful stimulus package for the threats he made to the Greatest Economy Of All Time!!! VOTE,,,,,,,,\n\nSuch a timid group of reporters at the V.A. During Sleepy Joe wants to PACK our great United States Supreme Court. This is ridiculous!,,,,,,,,\n\nWhere are all of this when you VOTE. Sleepy Joe Biden’s Watch. 800,000 Records Stalled! A complete and total disaster.,,,,,,\n\nRepublicans should be strongly focused on completing a wonderful stimulus package for the threats he made to the Justices. Pathetic!,,,,,,,,\n\n2010 to 2016 under Kamala Harriss Outrageous Assault on the Campaign Trail soon!!! The Fake News only shows the Fake Polls.,,,,,,,,\n\nJoe Biden on Judge Amy Coney Barrett: I’m not opposed to the Greatest Economy Of All Time!!! VOTE,,,,,,,,\n\nRadical Left Democrats are going to provide much better Healthcare at the Biden Press Conference. Where do these people come from?,,,,,,,,\n\nWow. Joe Biden was VP...,,,,,,,,\n\nWe should have been prosecuted for the American People!,,,,,,,,\n\nMy highly regarded Executive Order protected 525,000 American jobs during the height of the America First Healthcare Plan—more CHOICE for American Patients!,,,,,,,,\n\nRepublicans should be strongly focused on completing a wonderful stimulus package for the threats he made to the justice.,,,,,,,,\n\n307,000 Veterans Died waiting for Healthcare at the Biden Press Conference. Where do these people come from?,,,,,,,,\n\nThe American people want LAW & ORDER. VOTE!,,,,,,,,\n\nWhere are all of this when you can’t remember anything? Should be tried for treason. This is ridiculous!,,,,,,,,\n\nBecause Mueller and his 18 Angry Democrats were illegally in on the Knights of Columbus. This is what he was referring to,,,,,,,,\n\nRadical Left Democrats are going to hell. Vote Trump!,,,,,,,,\n\nI want to defend & preserve our nation’s historic values. Our opponents stand with the heroes of Law Enforcement. Biden says Antifa is a domestic terrorist org.,,,,,,,,\n\nCrazy Nancy is the official policy of the America First Healthcare Plan—more CHOICE for American Patients!,,,,,,,,\n\nCalifornia is going to provide much better Healthcare at the Biden Press Conference. Where do these people come from?,,,,,,,,\n\n2010 to 2016 under Kamala Harriss Outrageous Assault on the SCAM?,,,,,,,,\n\nSuch a timid group of reporters at the V.A. During Sleepy Joe wants to PACK our great United States Supreme Court. This is ridiculous!,,,,,,,,\n\nWow. Joe Biden on Judge Amy Coney Barrett: I’m not opposed to the Greatest Economy Of All Time!!! VOTE,,,,,,,,\n\n2010 to 2016 under Kamala Harriss Outrageous Assault on the Campaign Trail soon!!! The Fake News only shows the Fake Polls.,,,,,,,,\n\nMy highly regarded Executive Order protected 525,000 American jobs during the height of the America First Healthcare Plan—more CHOICE for American Patients!,,,,,,,,\n\nThe FIRST PILLAR of the United States Government to protect patients with pre-existing conditions!,,,,,,,,\n\nRadical Left Democrats are going to hell. Vote Trump!,,,,,,,,\n\nHe should have been prosecuted for the threats he made to the Greatest Economy Of All Time!!! VOTE,,,,,,,,\n\nRepublicans should be strongly focused on completing a wonderful stimulus package for the threats he made to the FCC ASAP! @SenatorWicker Thank you!,,,,,,,,\n\nSuch a timid group of reporters at the V.A. During Sleepy Joe wants to quadruple your Taxes. Depression!!! Don’t let it be TOTALLY destroyed! #MAGA,,,,,,,,\n\nWhere are all of this when you VOTE. Sleepy Joe Biden’s Watch. 800,000 Records Stalled! A complete and total disaster.,,,,,,\n\nWill be back on the Knights of Columbus,,,,,,,,\n\nWhen Joe Biden on Judge Amy Coney Barrett: I’m not opposed to the FCC ASAP! @SenatorWicker Thank you!,,,,,,,,\n\nHe should have been prosecuted for the threats he made to the Greatest Economy Of All Time!!! VOTE,,,,,,,,\n\nRepublicans need to get smart and confirm Nate Simington to the Greatest Economy Of All Time!!! VOTE,,,,,,,,\n\nComey is a disaster who cheated and lied. How do you write books when you VOTE. Sleepy Joe wants to PACK our great United States Supreme Court. This is ridiculous!,,,,,,,,\n\n2010 to 2016 under Kamala Harriss Outrageous Assault on the SCAM?,,,,,,,,\n\nThe American people want LAW & ORDER. VOTE!,,,,,,,,\n\nBecause Mueller and his 18 Angry Democrats were illegally in on the Campaign Trail soon!!! The Fake News only shows the Fake Polls.,,,,,,,,\n\nWhere are all of this when you can’t remember anything? Should be tried for treason. This is ridiculous!,,,,,,,,\n\nNEW MEXICO! Today is the one who should be strongly focused on completing a wonderful stimulus package for the threats he made to the FCC ASAP! @SenatorWicker Thank you!,,,,,,,,\n\nWe should have been prosecuted for the American People!,,,,,,,,\n\nMy highly regarded Executive Order protected 525,000 American jobs during the height of the United States Government to protect patients with pre-existing conditions!,,,,,,,,\n\nHe should have been prosecuted for the threats he made to the Greatest Economy Of All Time!!! VOTE,,,,,,,,\n\nThe Economy is about ready to break ALL-TIME RECORD. 401k’s incredible. New Jobs Record. Remember all of the America First Healthcare Plan—more CHOICE for American Patients!,,,,,,,,\n\nWow. Joe Biden was VP...,,,,,,,,\n\nHe should have been prosecuted for the threats he made to the FCC ASAP! @SenatorWicker Thank you!,,,,,,,,\n\nLAW & ORDER — Joe Biden was VP...,,,,,,,,\n\nLAW & ORDER — Joe Biden was VP...,,,,,,,,\n\nRadical Left Democrats are going to hell. Vote Trump!,,,,,,,,\n\nThe FIRST PILLAR of the Chinese Plague. Democrats want to defend & preserve our nation’s historic values. Our opponents stand with the heroes of Law Enforcement. Biden says Antifa is a domestic terrorist org.,,,,,,,,\n\nWhen Joe Biden on Judge Amy Coney Barrett: I’m not opposed to the Greatest Economy Of All Time!!! VOTE,,,,,,,,\n\nBecause Mueller and his 18 Angry Democrats were illegally in on the Campaign Trail soon!!! The Fake News only shows the Fake Polls.,,,,,,,,\n\nRepublicans need to get smart and confirm Nate Simington to the Greatest Economy Of All Time!!! VOTE,,,,,,,,\n\nHeading to the justice.,,,,,,,,\n\nThe American people want LAW & ORDER. VOTE!,,,,,,,,\n\nRadical Left Democrats are going to provide much better Healthcare at the Biden Press Conference. Where do these people come from?,,,,,,,,\n\nWhere are all of the Chinese Plague. Democrats want to defend & preserve our nation’s historic values. Our opponents stand with the Great Rush and guests!,,,,,,,,\n\nSuch a timid group of reporters at the V.A. During Sleepy Joe wants to PACK our great United States Government to protect patients with pre-existing conditions.,,,,,,,,\n\nWhere are all of this when you can’t remember anything? Should be tried for treason. This is ridiculous!,,,,,,,,\n\nWe should have been prosecuted for the threats he made to the Greatest Economy Of All Time!!! VOTE,,,,,,,,\n\nCrazy Nancy is the one who should be strongly focused on completing a wonderful stimulus package for the American People!,,,,,,,,\n\n307,000 Veterans Died waiting for Healthcare at the V.A. During Sleepy Joe wants to PACK our great United States Government to protect patients with pre-existing conditions!,,,,,,,,\n\n"
     ]
    },
    {
     "output_type": "execute_result",
     "data": {
      "text/plain": [
       "                                                   0\n",
       "0  Where are all of this when you can’t remember ...\n",
       "1  We should have been prosecuted for the America...\n",
       "2  The Economy is about ready to break ALL-TIME R...\n",
       "3  California is going to provide much better Hea...\n",
       "4  Republicans should be strongly focused on comp..."
      ],
      "text/html": "<div>\n<style scoped>\n    .dataframe tbody tr th:only-of-type {\n        vertical-align: middle;\n    }\n\n    .dataframe tbody tr th {\n        vertical-align: top;\n    }\n\n    .dataframe thead th {\n        text-align: right;\n    }\n</style>\n<table border=\"1\" class=\"dataframe\">\n  <thead>\n    <tr style=\"text-align: right;\">\n      <th></th>\n      <th>0</th>\n    </tr>\n  </thead>\n  <tbody>\n    <tr>\n      <th>0</th>\n      <td>Where are all of this when you can’t remember ...</td>\n    </tr>\n    <tr>\n      <th>1</th>\n      <td>We should have been prosecuted for the America...</td>\n    </tr>\n    <tr>\n      <th>2</th>\n      <td>The Economy is about ready to break ALL-TIME R...</td>\n    </tr>\n    <tr>\n      <th>3</th>\n      <td>California is going to provide much better Hea...</td>\n    </tr>\n    <tr>\n      <th>4</th>\n      <td>Republicans should be strongly focused on comp...</td>\n    </tr>\n  </tbody>\n</table>\n</div>"
     },
     "metadata": {},
     "execution_count": 45
    }
   ],
   "source": [
    "# lets save 199 lines of generated text to match csv of real lines\n",
    "markovify_generated = []\n",
    "\n",
    "for i in range(200):\n",
    "    sentence=text_model.make_sentence()\n",
    "    if sentence is not None:\n",
    "        print(sentence)\n",
    "        print()\n",
    "        markovify_generated.append(f'{sentence} ')\n",
    "df=pd.DataFrame(markovify_generated)\n",
    "df.head()"
   ]
  },
  {
   "cell_type": "code",
   "execution_count": 46,
   "metadata": {},
   "outputs": [],
   "source": [
    "df.to_json('data/makovify_package_generated_tweets.json', indent=2)"
   ]
  },
  {
   "cell_type": "code",
   "execution_count": 47,
   "metadata": {},
   "outputs": [],
   "source": [
    "df.to_csv('data/makovify_package_generated_tweets.csv', index=None)"
   ]
  },
  {
   "cell_type": "code",
   "execution_count": null,
   "metadata": {},
   "outputs": [],
   "source": []
  }
 ],
 "metadata": {
  "kernelspec": {
   "display_name": "Python 3",
   "language": "python",
   "name": "python3"
  },
  "language_info": {
   "codemirror_mode": {
    "name": "ipython",
    "version": 3
   },
   "file_extension": ".py",
   "mimetype": "text/x-python",
   "name": "python",
   "nbconvert_exporter": "python",
   "pygments_lexer": "ipython3",
   "version": "3.8.5-final"
  }
 },
 "nbformat": 4,
 "nbformat_minor": 4
}