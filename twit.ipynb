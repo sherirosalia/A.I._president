{
 "cells": [
  {
   "cell_type": "code",
   "execution_count": 72,
   "metadata": {},
   "outputs": [],
   "source": [
    "# %pip install splinter\n"
   ]
  },
  {
   "cell_type": "code",
   "execution_count": 73,
   "metadata": {},
   "outputs": [],
   "source": [
    "# %pip install webdriver-manager"
   ]
  },
  {
   "cell_type": "code",
   "execution_count": 74,
   "metadata": {},
   "outputs": [],
   "source": [
    "# from selenium import webdriver\n",
    "# from webdriver_manager.chrome import ChromeDriverManager\n",
    "\n",
    "# driver = webdriver.Chrome(ChromeDriverManager().install())"
   ]
  },
  {
   "cell_type": "code",
   "execution_count": 75,
   "metadata": {},
   "outputs": [],
   "source": [
    "from bs4 import BeautifulSoup as bs\n",
    "from pprint import pprint\n",
    "import requests\n",
    "import time\n",
    "import pandas as pd\n",
    "from splinter import Browser\n",
    "from selenium import webdriver\n",
    "from webdriver_manager.chrome import ChromeDriverManager\n",
    "import re\n",
    "import json"
   ]
  },
  {
   "cell_type": "code",
   "execution_count": 5,
   "metadata": {},
   "outputs": [],
   "source": []
  },
  {
   "cell_type": "code",
   "execution_count": 76,
   "metadata": {},
   "outputs": [],
   "source": [
    "#splinter browser for mac\n",
    "def init_browser():\n",
    "    executable_path = {'executable_path': '/usr/local/bin/chromedriver'}\n",
    "    \n",
    "    browser = Browser('chrome', **executable_path, headless=False)\n",
    "    return browser\n",
    "\n",
    "browser=init_browser()\n",
    "url = 'https://twitter.com/realDonaldTrump'\n",
    "#use splinter to open \n",
    "browser.visit(url)\n",
    "time.sleep(2)\n",
    "\n"
   ]
  },
  {
   "cell_type": "code",
   "execution_count": 77,
   "metadata": {},
   "outputs": [],
   "source": [
    "# data-testid=\"socialContext\" "
   ]
  },
  {
   "cell_type": "code",
   "execution_count": 78,
   "metadata": {},
   "outputs": [],
   "source": [
    "# browser.execute_script(\"setInterval(function(){ scrollTo(0, document.body.scrollHeight) }, 10000)\")"
   ]
  },
  {
   "cell_type": "code",
   "execution_count": 79,
   "metadata": {},
   "outputs": [],
   "source": [
    "# css-901oao css-16my406 r-1qd0xha r-ad9z0x r-bcqeeo r-qvutc0"
   ]
  },
  {
   "cell_type": "code",
   "execution_count": 80,
   "metadata": {},
   "outputs": [],
   "source": [
    "#  <article role=\"article\" data-focusable=\"true\" tabindex=\"0\" class=\"css-1dbjc4n r-1loqt21 r-18u37iz r-1ny4l3l r-o7ynqc r-6416eg\">"
   ]
  },
  {
   "cell_type": "code",
   "execution_count": 81,
   "metadata": {},
   "outputs": [],
   "source": [
    "\n",
    "# soup=bs(browser.html, 'html.parser')\n",
    "# span_div=soup.find_all('article', attrs={\"class\":\"css-1dbjc4n r-1loqt21 r-18u37iz r-1ny4l3l r-1udh08x r-1yt7n81 r-ry3cjt r-o7ynqc r-6416eg\", \"role\":\"article\", \"data-focusable\":\"true\"})\n",
    "# print(span_div)\n",
    "\n",
    "# trump_twitter=[]\n",
    "# for x in span_div:\n",
    "#     # selection=bs(x, 'html.parser')\n",
    "#     retweet=x.find('span', attrs={\"data-testid\":\"socialContext\"})\n",
    "#     print(retweet)\n",
    "    # if retweet is None:\n",
    "    #     tweet=x.find('div', attrs={\"class\":\"css-901oao\", \"lang\":\"en\"} )\n",
    "    #     print(tweet.text)\n"
   ]
  },
  {
   "cell_type": "code",
   "execution_count": 82,
   "metadata": {},
   "outputs": [
    {
     "output_type": "stream",
     "name": "stdout",
     "text": [
      "Have a great life General Flynn!\n",
      "Great people. Tonight!\n",
      "Great job Mark!\n",
      "JUST IN:\n",
      "\n",
      "Commonwealth court orders a Friday hearing on the Mike Kelly/Sean Parnell lawsuit asking to throw away all mail-in ballots.\n",
      "\n",
      "Also says to pause all activity as it relates to certification.\n",
      "\n",
      "Unclear what this means, since PA election has formally been certified.\n",
      "\n",
      "#WTAE\n",
      "Big news!\n",
      "“Data group exposes wide spread Mail-In Ballot Fraud.” @ChanelRion @OANN\n",
      "It is my Great Honor to announce that General Michael T. Flynn has been granted a Full Pardon. Congratulations to @GenFlynn and his wonderful family, I know you will now have a truly fantastic Thanksgiving!\n",
      "I will be speaking before a very important Pennsylvania State Senate hearing which is in process now. Talking about the massive voter fraud which took place in the 2020 Election!\n",
      "I will be speaking before a very important Pennsylvania State Senate hearing which is in process now. Talking about the massive voter fraud which took place in the 2020 Election!\n",
      "On behalf of the entire Trump Family, I want to wish every American a Healthy and Happy Thanksgiving! Today we gathered in the Rose Garden to continue a beloved annual tradition: the Official Presidential Pardon of a very fortunate Thanksgiving Turkey....\n",
      "Should President Trump concede to Biden? Poll Results: No: 190,593  (98.9%) Yes: 2,181  (1.1%) Total Votes: 192,774. @gregkellyusa @newsmax For the good of our Country we must prevail!\n",
      "Great job @DrPaulGosar. Thanks!\n",
      "...This could also be very helpful to @SenDavidPerdue and @SenatorLoeffler. Why is he afraid of Stacey Abrams? We don’t need the ballots — we only need the signed envelopes!\n",
      "Why isn’t the @GASecofState Brad Raffensperger, a so-called Republican, allowing us to look at signatures on envelopes for verification? We will find tens of thousands of fraudulent and illegal votes...\n",
      "AMERICA FIRST!!!\n",
      "On behalf of the entire Trump Family, I want to wish every American a Healthy and Happy Thanksgiving! Today we gathered in the Rose Garden to continue a beloved annual tradition: the Official Presidential Pardon of a very fortunate Thanksgiving Turkey....\n",
      "Remember, the GSA has been terrific, and Emily Murphy has done a great job, but the GSA does not determine who the next President of the United States will be.\n",
      "Poll: 79 Percent of Trump Voters Believe ‘Election Was Stolen‘ https://breitbart.com/2020-election/2020/11/23/poll-79-of-trump-voters-believe-election-was-stolen-through-illegal-voting-and-fraud/… via @BreitbartNews They are 100% correct, but we are fighting hard. Our big lawsuit, which spells out in great detail all of the ballot fraud and more, will soon be filled. RIGGED ELECTION!\n",
      "What does GSA being allowed to preliminarily work with the Dems have to do with continuing to pursue our various cases on what will go down as the most corrupt election in American political history? We are moving full speed ahead. Will never concede to fake ballots & “Dominion”.\n",
      "...fight, and I believe we will prevail! Nevertheless, in the best interest of our Country, I am recommending that Emily and her team do what needs to be done with regard to initial protocols, and have told my team to do the same.\n",
      "I want to thank Emily Murphy at GSA for her steadfast dedication and loyalty to our Country. She has been harassed, threatened, and abused – and I do not want to see this happen to her, her family, or employees of GSA. Our case STRONGLY continues, we will keep up the good...\n",
      "Data: Trump‘s Anti-Globalism, Pro-Police Message Wins Over Hispanics https://breitbart.com/politics/2020/11/22/election-data-trumps-anti-globalism-pro-police-message-wins-hispanics/… via @BreitbartNews Great, but we also won the election!\n",
      "In certain swing states, there were more votes than people who voted, and in big numbers. Does that not really matter? Stopping Poll Watchers, voting for unsuspecting people, fake ballots and so much more. Such egregious conduct. We will win!\n",
      ".@Larry_Kudlow note to @EamonJavers @CNBC....\n",
      "Report: Maryland Gov. Larry Hogan, Anti-Trump Hero, Paid for Flawed Coronavirus Tests from South Korea https://breitbart.com/health/2020/11/22/report-anti-trump-maryland-governor-larry-hogan-paid-for-flawed-coronavirus-tests-from-south-korea/… via @BreitbartNews. This RINO will never make the grade. Hogan is just as bad as the flawed tests he paid big money for!\n",
      "...And neither am I!\n",
      "....WILL APPEAL!\n",
      "Thanks Mark. It’s all a continuation of the never ending Witch Hunt. Judge Brann, who would not even allow us to present our case or evidence, is a product of Senator Pat “No Tariffs” Toomey of Pennsylvania, no friend of mine, & Obama - No wonder. 900,000 Fraudulent Votes!\n",
      "“Dominion-izing the Vote”\n",
      "Part Three via @OANN @ChanelRion\n",
      "“Dominion-izing the Vote”\n",
      "Part Two via @OANN @ChanelRion\n",
      "“Dominion-izing the Vote”\n",
      "Part One via @OANN @ChanelRion\n",
      "True!\n",
      "This is not at all frivolous. It is brought on behalf of one of the most respected members of the United States Congress who is disgusted, like so many others, by an Election that is a fraudulent mess. Fake ballots, dead people voting, no Republican Poll Watchers allowed, & more!\n",
      "....the COURAGE to do what has to be done to maintain the integrity of our Elections,  and the United States of America itself. THE WORLD IS WATCHING!!!\n",
      "Why is Joe Biden so quickly forming a Cabinet when my investigators have found hundreds of thousands of fraudulent votes, enough to “flip” at least four States, which in turn is more than enough to win the Election? Hopefully the Courts and/or Legislatures will have....\n",
      "The Media is just as corrupt as the Election itself!\n",
      "Fake News always “forgets” to mention that far fewer people are dying when they get Covid. This is do to both our advanced therapeutics, and the gained knowledge of our great doctors, nurses and front line workers!\n",
      "The Fake News is not talking about the fact that “Covid” is running wild all over the World, not just in the U.S. I was at the Virtual G-20 meeting early this morning and the biggest subject was Covid. We will be healing fast, especially with our vaccines!\n",
      "Joe Biden was a total disaster in handling the H1N1 Swine Flu, would never have produced a Vaccine in record time (years ahead of schedule), and would do a terrible job of Vaccine delivery - But doesn’t everybody already know that!\n",
      "“President Trump has done many great things (biggest tax & regulation cuts in history, Space Force, rebuilding our military, fixing the V.A., the Wall), but perhaps the most important of all will be what he is doing now, exposing the massive corruption in our Electoral Process.”\n",
      "Watch: Hundreds of Activists Gather for ‘Stop the Steal‘ Rally in Georgia https://breitbart.com/politics/2020/11/21/watch-live-hundreds-of-activists-gather-for-stop-the-steal-rally-in-georgia/… via  BreitbartNews  Big Rallies all over the Country. The proof pouring in is undeniable. Many more votes than needed. This was a LANDSLIDE!\n",
      "Check out @PastorDScott’s new show tonight at 7:00pm on @RealAmVoice. Good luck Darrell!\n",
      "Big voter fraud information coming out concerning Georgia. Stay tuned!\n",
      "...Why won’t they do it, and why are they so fast to certify a meaningless tally?\n",
      "The Governor of Georgia, and Secretary of State, refuse to let us look at signatures which would expose hundreds of thousands of illegal ballots, and give the Republican Party and me, David Perdue, and perhaps Kelly Loeffler, a BIG VICTORY...\n",
      "News Conference on Reduced Drug Prices at 2:30 P.M.\n",
      "Giuliani: The Case for Election Fraud Being Made By Americans https://breitbart.com/2020-election/2020/11/19/rudy-giuliani-the-case-for-election-fraud-being-made-by-american-patriots-in-both-parties/… via @BreitbartNews\n",
      "We have great support on the Election Hoax!\n",
      "So true. Thanks Jody!\n",
      "We withdrew because we won!\n",
      "Nolte: Top Pollster Finds 47% Say ‘Likely‘ Democrats Stole Election https://breitbart.com/2020-election/2020/11/19/nolte-top-pollster-finds-47-say-likely-democrats-stole-election/… via @BreitbartNews Rigged Election!\n",
      "Lawyers now on @newsmax, @OANN & maybe @FoxNews. An open and shut case of voter fraud. Massive numbers!\n",
      "THE COVID DRUGS NOW AVAILABLE TO MAKE PEOPLE BETTER ARE AMAZING, BUT SELDOM TALKED ABOUT BY THE MEDIA! Mortality rate is 85% down!\n",
      "“Evidence of voter fraud continues to grow, including 20,000 dead people on the Pennsylvania voters roll and many thousands all over the Country. Now, there has been an artificial number of votes in favor of Joe Biden.” @OANN\n",
      "Almost ZERO ballots rejected in Georgia this election. In years past, close to 4%. Not possible. Must have signature check on envelopes now. Very easy to do. Dems fighting because they got caught. Far more votes than needed for flip. Republicans must get tough! @BrianKempGA\n",
      "\"Dominion-izing the Vote\"\n",
      "“Statistical sampling to prove widespread voter fraud...multiple accounts of fraud and voting irregularities may overturn election”...call for paper ballots.  @RandPaul @OANN\n",
      "Look at this in Wisconsin! A day AFTER the election, Biden receives a dump of 143,379 votes at 3:42AM, when they learned he was losing badly. This is unbelievable!\n",
      "Thank you @DarrellIssa, so nice!\n",
      "Wrong! At first they voted against because there were far more VOTES than PEOPLE (Sad!). Then they were threatened, screamed at and viciously harassed, and were FORCED to change their vote, but then REFUSED, as American patriots, to sign the documents. 71% MESS. Don’t Harass!\n",
      "...AND I WON THE ELECTION. VOTER FRAUD ALL OVER THE COUNTRY!\n",
      "Trump votes.\n",
      "Wow! Governor Kemp will hopefully see the light before it is too late. Must finally take charge! Two GREAT Senators, who do so much for Georgia and truly love the USA, are in a must win battle with two incompetents who don’t have a clue!\n",
      "Well, it’s really quite simple. You just can’t have more votes than people!\n",
      "More votes than people, and that is the least of it!!!\n",
      "Flip Michigan back to TRUMP. Detroit, not surprisingly, has tremendous problems!\n",
      "Wow! Michigan just refused to certify the election results! Having courage is a beautiful thing. The USA stands proud!\n",
      "THIS SAYS IT ALL!\n",
      "I have reversed the ridiculous decision to cancel Wreaths Across America at Arlington National Cemetery. It will now go on!\n",
      "Big victory moments ago in the State of Nevada. The all Democrat County Commissioner race, on same ballot as President, just thrown out because of large scale voter discrepancy. Clark County officials do not have confidence in their own election security. Major impact!\n",
      "The rate of rejected Mail-In Ballots is 30 X’s lower in Pennsylvania this year than it was in 2016. This is why they kept our poll watchers and observers out of the “SACRED” vote counting rooms!\n",
      "Georgia won’t let us look at the all important signature match. Without that the recount is MEANINGLESS. Open up unconstitutional Consent Decree, NOW! @BrianKempGA\n",
      "European Countries are sadly getting clobbered by the China Virus. The Fake News does not like reporting this!\n",
      "STOCK MARKET GETTING VERY CLOSE TO 30,000 ON NEW VACCINE NEWS. 95% EFFECTIVE!\n",
      "They will PACK THE COURTS. We won’t let that happen!\n",
      "The Radical Left Democrats, working with their partner, the Fake News Media, are trying to STEAL this Election. We won’t let them!\n",
      "I strongly stand with Kelly & David. They are both great and MUST WIN!\n",
      "Dominion is running our Election. Rigged!\n",
      "Thank you Andrew!\n",
      "Most fraudulent Election in history! https://twitter.com/1776Stonewall/status/1328196730047897602…\n",
      "This is crazy! https://twitter.com/1776Stonewall/status/1328222499285463041…\n",
      "No way! https://twitter.com/1776Stonewall/status/1328222499285463041…\n",
      "The Washington Post forgot to read the complaint. Fake News. Poll Watchers, and the way they were treated, are a very big deal in the complaint!\n",
      "I WON THE ELECTION!\n",
      "....owned Dominion Voting Systems, turned down by Texas and many others because it was not good or secure, those responsible for the safeguarding of our Constitution cannot allow the Fake results of the 2020 Mail-In Election to stand. The World is watching!\n",
      "....perhaps like never before! From large numbers of Poll Watchers that were thrown out of vote counting rooms in many of our States, to millions of ballots that have been altered by Democrats, only for Democrats, to voting after the Election was over, to using Radical Left\n",
      "Why does the Fake News Media continuously assume that Joe Biden will ascend to the Presidency, not even allowing our side to show, which we are just getting ready to do, how badly shattered and violated our great Constitution has been in the 2020 Election. It was attacked,..\n",
      "Rudy will be interviewed by @MariaBartiromo at 10:00 A.M. NOW!\n",
      "Progress!\n",
      "He only won in the eyes of the FAKE NEWS MEDIA. I concede NOTHING! We have a long way to go. This was a RIGGED ELECTION!\n",
      "RIGGED ELECTION. WE WILL WIN!\n",
      "He won because the Election was Rigged. NO VOTE WATCHERS OR OBSERVERS allowed, vote tabulated by a Radical Left privately owned company, Dominion, with a bad reputation & bum equipment that couldn’t even qualify for Texas (which I won by a lot!), the Fake & Silent Media, & more!\n",
      "Doing a great job in Georgia. Their recount is a scam, means nothing. Must see fraudulent signatures which is prohibited by stupidly signed & unconstitutional consent decree. @BrianKempGA\n",
      "Radical Left ANTIFA SCUM was easily rebuffed today by the big D.C. MAGA Rally crowd, only to return at night, after 99% of the crowd had left, to assault elderly people and families. Police got there, but late. Mayor is not doing her job!\n",
      "ANTIFA SCUM ran for the hills today when they tried attacking the people at the Trump Rally, because those people aggressively fought back. Antifa waited until tonight, when 99% were gone, to attack innocent #MAGA People. DC Police, get going — do your job and don’t hold back!!!\n",
      "I look forward to Mayor Giuliani spearheading the legal effort to defend OUR RIGHT to FREE and FAIR ELECTIONS! Rudy Giuliani, Joseph diGenova, Victoria Toensing, Sidney Powell, and Jenna Ellis, a truly great team, added to our other wonderful lawyers and representatives!\n",
      "There is tremendous evidence of wide spread voter fraud in that there is irrefutable proof that our Republican poll watchers and observers were not allowed to be present in poll counting rooms. Michigan, Pennsylvania, Georgia and others. Unconstitutional!\n",
      ".@FoxNews and the Fake News Networks aren’t showing these massive gatherings. Instead they have their reporters standing in almost empty streets. We now have SUPPRESSION BY THE PRESS. MAGA!\n",
      "Thank you Dan!\n",
      "....We cannot waste time and can only give to those states that will use the Vaccine immediately. Therefore the New York delay. Many lives to be saved, but we are ready when they are. Stop playing politics!\n",
      "I LOVE NEW YORK! As everyone knows, the Trump Administration has produced a great and safe VACCINE far ahead of schedule. Another Administration would have taken five years. The problem is, @NYGovCuomo said that he will delay using it, and other states WANT IT NOW...\n",
      "Congress must now do a Covid Relief Bill. Needs Democrats support. Make it big and focused. Get it done!\n",
      "....What are they trying to hide. They know, and so does everyone else. EXPOSE THE CRIME!\n",
      "The Consent Decree signed by the Georgia Secretary of State, with the approval of Governor @BrianKempGA, at the urging of @staceyabrams, makes it impossible to check & match signatures on ballots and envelopes, etc. They knew they were going to cheat. Must expose real signatures!\n",
      "Republican Burgess Owens Defeats Democrat Rep. Ben McAdams in Utah https://breitbart.com/politics/2020/11/13/republican-burgess-owens-defeats-democrat-rep-ben-mcadams-in-utah/… via @BreitbartNews Great going Burgess, you continue to be a STAR!\n",
      "Wow. This is exactly what happened to us. Great courage by judge!\n",
      "“The worst thing you can do is bet against Donald Trump, considering what has been done against him. They flooded the zone with mail-in ballots. We need every vote counted, and ferociously.” @PeteHegseth @seanhannity\n",
      "Georgia Secretary of State, a so-called Republican (RINO), won’t let the people checking the ballots see the signatures for fraud. Why? Without this the whole process is very unfair and close to meaningless. Everyone knows that we won the state. Where is @BrianKempGA?\n",
      "Will be having a press conference from the Rose Garden in 15 minutes.\n",
      "Now it is learned that the horrendous Dominion Voting System was used in Arizona (and big in Nevada). No wonder the result was a very close loss!\n",
      "Heartwarming to see all of the tremendous support out there, especially the organic Rallies that are springing up all over the Country, including a big one on Saturday in D.C. I may even try to stop by and say hello. This Election was Rigged, from Dominion all the way up & down!\n",
      "For years the Dems have been preaching how unsafe and rigged our elections have been. Now they are saying what a wonderful job the Trump Administration did in making 2020 the most secure election ever. Actually this is true, except for what the Democrats did. Rigged Election!\n",
      "Alito: ‘Religious Liberty Is in Danger of Becoming a Second-Class Right‘ https://breitbart.com/clips/2020/11/13/alito-religious-liberty-is-in-danger-of-becoming-a-second-class-right/… via @BreitbartNews\n",
      "Fitton: 2020 Election Update https://breitbart.com/politics/2020/11/12/fitton-2020-election-update/… via @BreitbartNews\n",
      "These states in question should immediately be put in the Trump Win column. Biden did not win, he lost by a lot!\n",
      "100% Correct!\n",
      "So beautiful!\n",
      "NOW 73,000,000 LEGAL VOTES!\n",
      "Nobody wants to report that Pennsylvania and Michigan didn’t allow our Poll Watchers and/or Vote Observers to Watch or Observe. This is responsible for hundreds of thousands of votes that should not be allowed to count. Therefore, I easily win both states. Report the News!\n",
      "I am pleased to announce that I have given my full support and endorsement to Ronna McDaniel to continue heading the Republican National Committee (RNC). With 72 MILLION votes, we received more votes than any sitting President in U.S. history - and we will win!\n",
      "Everyone is asking why the recent presidential polls were so inaccurate when it came to me. Because they are FAKE, just like much of the Lamestream Media!\n",
      "WE WILL WIN!\n",
      "You are looking at BALLOTS! Is this what our Country has come to?\n",
      "People will not accept this Rigged Election!\n",
      "Obama spied on our campaign - and got caught!\n",
      "I Was In Philadelphia Watching Fraud Happen. Here’s How It Went Down https://thefederalist.com/2020/11/10/i-was-in-philadelphia-watching-fraud-happen-heres-how-it-went-down/#.X6tJqlapcBk.twitter… They shut out our Poll Watchers and Observers. Those hundreds of thousands of votes should not be allowed. Corrupt politics.\n",
      "Ballot Corruption will be exposed tonight at 9:00pmE on @SeanHannity on @FoxNews!\n",
      "Pennsylvania Party Leadership votes are this week. I hope they pick very tough and smart fighters. We will WIN!!\n",
      "Nate Simington, a very smart and qualified individual, is having his Senate hearing today. Republicans will hopefully confirm him to the FCC ASAP! We need action NOW on this very important nomination!! @SenatorWicker @MarshaBlackburn @senatemajldr\n",
      "Happy 245th Birthday to the @USMC! #HappyBirthdayMarines\n",
      "Republicans, don’t let Andrew McCabe continue to get away with totally criminal activity. What he did should never be allowed to happen to our Country again. FIGHT FOR JUSTICE!\n",
      "Highly Respected Ken Starr: “Pennsylvania’s three-day extension of the mail-in ballot deadline is a Constitutional Travesty.” Legal scholars agree!\n",
      "BALLOT COUNTING ABUSE!\n",
      "WATCH FOR MASSIVE BALLOT COUNTING ABUSE AND, JUST LIKE THE EARLY VACCINE, REMEMBER I TOLD YOU SO!\n",
      "WE WILL WIN!\n",
      "WE ARE MAKING BIG PROGRESS. RESULTS START TO COME IN NEXT WEEK. MAKE AMERICA GREAT AGAIN!\n",
      "“Only because of President Trump, we are going to have a Vaccine by the end of the year.”  Ronny Jackson, Texas Congressman-Elect\n",
      "“President Trump told us for some time we would be getting a Vaccine by the end of the year and people laughed at him, and here we are with Pfizer getting FDA approval by the end of this month. He was right.” @MariaBartiromo\n",
      "Nothing!\n",
      "The @US_FDA and the Democrats didn’t want to have me get a Vaccine WIN, prior to the election, so instead it came out five days later – As I’ve said all along!\n",
      "If Joe Biden were President, you wouldn’t have the Vaccine for another four years, nor would the @US_FDA have ever approved it so quickly. The bureaucracy would have destroyed millions of lives!\n",
      "As I have long said, @Pfizer and the others would only announce a Vaccine after the Election, because they didn’t have the courage to do it before. Likewise, the @US_FDA should have announced it earlier, not for political purposes, but for saving lives!\n",
      "...The worst polling ever, and then they’ll be back in four years to do it again. This is much more then voter and campaign finance suppression!\n",
      "...ABC/WaPo had me down 17 points in Wisconsin, the day before the election, and I WON! In Iowa, the polls had us 4 points down, and I won by 8.2%! Fox News and Quinnipiac were wrong on everything...\n",
      ".@FoxNews, @QuinnipiacPoll, ABC/WaPo, NBC/WSJ were so inaccurate with their polls on me, that it really is tampering with an Election. They were so far off in their polling, and in their attempt to suppress - that they should be called out for Election Interference...\n",
      "This is good news, it means I won! \n",
      "cc: @RepDougCollins @SecretarySonny\n",
      "STOCK MARKET UP BIG, VACCINE COMING SOON. REPORT 90% EFFECTIVE. SUCH GREAT NEWS!\n",
      "...and Detroit with a long series of election problems (to put it mildly).” @JonathanTurley\n",
      "....how these ballots were authenticated, because if there’s a problem in the system about authentication, that would seriously affect the ENTIRE ELECTION - And what concerns me is that we had over a hundred million mail-in ballot in cites like Philladelphia...\n",
      "....Supreme Court Justice to compel them to separate ballots that were received after the legislative deadline. It required the intervention of Justice Alito. That’s a large group of ballots. When you talk about systemic problems, it’s about...\n",
      "“We should look at the votes. We’re just beginning the tabulation stage. We should look at these allegations. We’re seeing a number of affidavits that there has been voter fraud. We have a history in this country of election problems. In Pennsylvania you had an order by a...\n",
      "71,000,000 Legal Votes. The most EVER for a sitting President!\n",
      "THE OBSERVERS WERE NOT ALLOWED INTO THE COUNTING ROOMS. I WON THE ELECTION, GOT 71,000,000 LEGAL VOTES. BAD THINGS HAPPENED WHICH OUR OBSERVERS WERE NOT ALLOWED TO SEE. NEVER HAPPENED BEFORE. MILLIONS OF MAIL-IN BALLOTS WERE SENT TO PEOPLE WHO NEVER ASKED FOR THEM!\n",
      "I WON THIS ELECTION, BY A LOT!\n",
      "Georgia Counties Using Same Software as Michigan Counties Also Encounter ‘Glitch’ https://breitbart.com/politics/2020/11/07/georgia-counties-using-same-software-as-michigan-counties-also-encounter-glitch/… via @BreitbartNews What a total mess this “election” has been!\n",
      "Big press conference today in Philadelphia at Four Seasons Total Landscaping — 11:30am!\n",
      "Incredibly stated Jim!\n",
      "“We need an explanation as to how these numbers have been running up for the last two or three days.” Matthew Whitaker. @EveningEdit\n",
      "I had such a big lead in all of these states late into election night, only to see the leads miraculously disappear as the days went by. Perhaps these leads will return as our legal proceedings move forward!\n",
      "Joe Biden should not wrongfully claim the office of the President. I could make that claim also. Legal proceedings are just now beginning!\n",
      "Where are the missing military ballots in Georgia? What happened to them?\n",
      "With the attack by the Radical Left Dems on the Republican Senate, the Presidency becomes even more important!\n",
      "....has been able to render decisions in a matter of days.” Ken Starr, former Independent Counsel @Varneyco\n",
      "Twitter is out of control, made possible through the government gift of Section 230!\n",
      "So now the Democrats are working to gain control of the U.S. Senate through their actions on John James, David Perdue, and more. Would End the Filibuster, “Life”, 2A, and would Pack and Rotate the Court. Presidency becomes even more important. We will win!\n",
      "News Conference at 6:30 P.M.\n",
      "Jobless Claims Dip to 751,000, Lowest Since March https://breitbart.com/economy/2020/11/05/jobless-claims-dip-to-751000-lowest-since-march/… via @BreitbartNews\n",
      "Fmr NV AG Laxalt: ‘No Question‘ Trump Would Have Won Nevada ‘Convincingly‘ Without Mail-in Voting https://breitbart.com/clips/2020/11/04/fmr-nv-ag-laxalt-no-question-trump-would-have-won-nevada-convincingly-without-mail-in-voting/… via @BreitbartNews\n",
      "STOP THE COUNT!\n",
      "Detroit Absentee Ballot Counting Chaos, Blocked Windows and Observers https://breitbart.com/politics/2020/11/04/watch-detroit-absentee-ballot-counting-chaos-as-workers-block-windows-bar-observers/… via @BreitbartNews\n",
      "Our lawyers have asked for “meaningful access”, but what good does that do? The damage has already been done to the integrity of our system, and to the Presidential Election itself. This is what should be discussed!\n",
      "We have claimed, for Electoral Vote purposes, the Commonwealth of Pennsylvania (which won’t allow legal observers) the State of Georgia, and the State of North Carolina, each one of which has a BIG Trump lead. Additionally, we hereby claim the State of Michigan if, in fact,.....\n",
      "We are winning Pennsylvania big, but the PA Secretary of State just announced that there are “Millions of ballots left to be counted.”\n",
      "Wow! It looks like Michigan has now found the ballots necessary to keep a wonderful young man, John James, out of the U.S. Senate. What a terrible thing is happening!\n",
      "They are finding Biden votes all over the place — in Pennsylvania, Wisconsin, and Michigan. So bad for our Country!\n",
      "WHAT IS THIS ALL ABOUT?\n",
      "How come every time they count Mail-In ballot dumps they are so devastating in their percentage and power of destruction?\n",
      "I will be making a statement tonight. A big WIN!\n",
      "WE ARE LOOKING REALLY GOOD ALL OVER THE COUNTRY. THANK YOU!\n",
      "Get out & VOTE! Under my Administration, our ECONOMY is growing at the fastest rate EVER at 33.1%. Next year will be the GREATEST ECONOMIC YEAR in American History!\n",
      "\n",
      "Find your polling place below.\n",
      "A parade for me in Nigeria, a great honor!\n",
      "Thank you Matt!\n",
      "Thank you Paris. Keep up the GREAT work!\n",
      "A vote for me and the Republican Party is a vote for the American Dream! Over the next four years, we will make America into the Manufacturing Superpower of the World, and we will end our reliance on China once and for all. http://Vote.DonaldJTrump.com\n",
      "I am asking you to go VOTE for your favorite president, we still have work to do! Let’s WIN, WIN, WIN!\n",
      "THANK YOU WISCONSIN!\n",
      "THANK YOU MICHIGAN! Tomorrow, you have the power, with your vote, to save AMERICA! So get your friends, get your family, get your neighbors and co-workers, and GET OUT AND VOTE! Together, WE will MAKE AMERICA GREAT AGAIN!\n",
      "As Christians throughout this great Country celebrate All Souls Day, let’s remember those who went before us and built this great nation. May their legacy inspire us as we keep our nation what it has always been: blessed and great!\n",
      "For years you had a President who apologized for America – now you have a President who is standing up for America, and standing up for PENNSYLVANIA. Tomorrow, you have the power, with your vote, to save AMERICA! GET OUT AND VOTE!! #MAGA\n",
      "With your VOTE, we will continue to cut your taxes and regs, support our police, support our military, protect your 2A, defend religious liberty & ensure more products are proudly stamped MADE IN THE USA! Next year will be the greatest economic year in the history of our Country!\n",
      "...no future for America’s youth. A vote for Biden is a vote for Lockdowns, Layoffs and Misery. Get out and VOTE tomorrow!\n",
      "Joe Biden is promising to delay the vaccine and turn America into a prison state—locking you in your home while letting far-left rioters roam free. The Biden Lockdown will mean no school, no graduations, no weddings, no Thanksgiving, no Christmas, no Fourth of July, and...\n",
      "If I don’t sound like a typical Washington politician, it’s because I’m NOT a politician. If I don’t always play by the rules of the Washington Establishment, it’s because I was elected to fight for YOU, harder than anyone ever has before! http://Vote.DonaldJTrump.com\n",
      "Yesterday, I was thrilled to be endorsed by the Pittsburgh Post-Gazette, the first time the paper has endorsed a Republican for president in half a century. Thank you! #MAGA\n",
      "...He was a cheerleader for NAFTA and China’s entry into the WTO. Pennsylvania lost half of its manufacturing jobs after those Biden Calamities. Joe Biden is a corrupt politician who SOLD OUT Pennsylvania to CHINA!\n",
      "Joe Biden is a globalist who spent 47 years outsourcing your jobs, opening your borders, and sacrificing American blood and treasure in endless foreign wars. He shuttered your steel mills, annihilated your coal jobs, and supported every disastrous trade deal for half a century...\n",
      "Biden will RAISE YOUR TAXES (Biggest increase ever!).\n",
      "Biden NEVER named his list of Supreme Court Justices. Never even said whether or not he was going to Pack the Court. So how do you vote for this guy?\n",
      "MAKE AMERICA GREAT AGAIN!\n",
      "http://Vote.DonaldJTrump.com\n",
      "We have more Cases because we have more Testing!\n",
      "Biden can never negotiate with China. They would own the U.S. if he were ever President!\n",
      "...our noble history, heritage & heroes; and ANTIFA, the rioters, looters, Marxists, & left-wing extremists. THEY ALL SUPPORT JOE BIDEN!\n",
      "...that killed our fellow citizens with illegal drugs, gangs & crime; The far-left Democrats that ruined our public schools, depleted our inner cities, defunded our police, & demeaned your sacred faith & values; The Anti-American radicals defaming...\n",
      "Every corrupt force in American life that betrayed you and hurt your are supporting Joe Biden: The failed establishment that started the disastrous foreign wars; The career politicians that offshored your industries & decimated your factories; The open borders lobbyists...\n",
      "THANK YOU NORTH CAROLINA!\n",
      "I PREPAID Millions of Dollars in FEDERAL INCOME TAXES!\n",
      "“No President in history has done more for OHIO than President Trump.”\n",
      "Biden was a pathetic laughing stock all over Washington for the horrible way he handled the H1N1 Swine Flu. Even his own Chief of Staff said he didn’t know what he was doing!\n",
      "Texas, Pennsylvania:\n",
      " Biden is against Second Amendment and Fracking. Please remember!\n",
      "West Virginia, Get Out and Vote for Patrick Morrisey for Attorney General! He has my Complete and Total Endorsement!\n",
      "This story is FALSE. They did nothing wrong. But the ANTIFA Anarchists, Rioters and Looters, who have caused so much harm and destruction in Democrat run cities, are being seriously looked at!\n",
      "Good Morning! Let’s #MAGA! \n",
      "http://Vote.DonaldJTrump.com\n",
      "As long as I’m in office, NEBRASKA, MICHIGAN, MINNESOTA, and OHIO will bounce back Bigger and Better than ever before! Early Vote polls close today in these Great States and we need YOU to get out and VOTE! Together, we’ll MAKE AMERICA GREAT AGAIN!!\n",
      "Joe Biden is a corrupt politician who is bought and paid for by China! In 2016, Georgia voted to FIRE this corrupt political establishment and you elected an outsider as President who is finally putting AMERICA FIRST!\n",
      "Thank you Georgia! #MAGA\n",
      "In my opinion, these patriots did nothing wrong. Instead, the FBI & Justice should be investigating the terrorists, anarchists, and agitators of ANTIFA, who run around burning down our Democrat run cities and hurting our people!\n",
      "Pennsylvania: Biden said that he doesn’t want Fracking. Besides, and more importantly, his handlers won’t allow Fracking. That would be the end of Pennsylvania!\n",
      "Biden did a very POOR job of handling H1N1 Swine Flu, yet all he talks about is Covid, Covid, Covid, like he would actually know what he is doing. He doesn’t. Plus, he would be TERRIBLE with the Economy!\n",
      "Thank you Iowa!\n",
      "Michigan was GREAT! Landing now in Dubuque, Iowa. See you soon.\n",
      "Chris Wallace of @FoxNews, by far the lowest rated of the Sunday morning news programs, can’t get over his poor debate performance, probably even worse than Sleepy Joe’s. His show is a total “hit job” on your favorite President, me!\n",
      "Biden is a proven Castro puppet! Vote TRUMP\n",
      "Under my leadership, our ECONOMY is now growing at the fastest rate EVER recorded—33.1%! While foreign nations are in freefall, we are creating the world’s greatest ECONOMIC POWERHOUSE! Get out and VOTE on November 3rd, so we can keep it going! #MAGA\n",
      "You don’t have to take my word on Biden’s 47 years of treachery and betrayal. We have it on tape, watch!\n",
      "WISCONSIN! Vote to defend your family, your Country, and the American Way of Life. Get out and VOTE TODAY before In-Person Absentee Voting ends. Your vote will MAKE AMERICA GREAT AGAIN!\n",
      "....all I needed, everything went swimmingly from there. He was so highly regarded & respected in Scotland and beyond that years of future turmoil was avoided. Sean was a great actor and an even greater man. Sincere condolences to his family!\n",
      "The legendary actor, 007 Sean Connery, has past on to even greener fairways. He was quite a guy, and a tough character. I was having a very hard time getting approvals for a big development in Scotland when Sean stepped in and shouted,“Let him build the damn thing”. That was....\n",
      "Biden wants to LOCKDOWN our Country, maybe for years. Crazy! There will be NO LOCKDOWNS. The great American Comeback is underway!!!\n",
      "Joe Biden called Black Youth SUPER PREDATORS. They will NEVER like him, or vote for him. They are voting for “TRUMP”.\n",
      "...The place was a mess and would have lost much more business if I hadn’t come along. Many new plants are starting. Foreign countries and companies now treat the USA, and Michigan, with respect. Big jobs plans. Please remember this when you go to cast your very important vote!\n",
      "When I originally became your all time favorite President, the Great State of Michigan was hemorrhaging car companies and jobs. Plants were closing and moving to Mexico, and other places. No new plants for decades. I stopped the moves, & now many plants are and have been built...\n",
      "Our numbers are looking VERY good all over. Sleepy Joe is already beginning to pull out of certain states. The Radical Left is going down!\n",
      "People have long been voting but Joe Biden has still not released his Supreme Court List of Radical Left Judges that he would like to put on the Court. Also, is he going to Court Pack? He thinks he can bluff his way through these two important questions. Can only vote against!!!\n",
      "Great people with unlimited potential. WIN!!!\n",
      "Go Joe!!!\n",
      "Trump Supporters Fill Streets of Beverly Hills: ‘The Silent Majority is Silenced No More‘ https://breitbart.com/politics/2020/10/31/trump-supporters-fill-streets-of-beverly-hills-the-silent-majority-is-silenced-no-more/… via @BreitbartNews Thank you!\n",
      "Joe Biden has been a disaster for African Americans and Hispanic Americans—I am fighting for citizens of every race, color and creed. We achieved record low unemployment rates. I signed landmark Criminal Justice Reform, and we will deliver School Choice! http://Vote.DonaldJTrump.com\n",
      "We are ONE movement, ONE people, ONE family, and ONE GLORIOUS NATION UNDER GOD! Together with the incredible people of Pennsylvania, we will MAKE AMERICA GREAT AGAIN! \n",
      "\n",
      "#ElectionDay #MAGA\n",
      "http://Vote.DonaldJTrump.com\n",
      "Over the next four years, we will stop the radical indoctrination of our students, and restore PATRIOTIC EDUCATION to our schools. We will teach our children to love our Country, honor our history, and always respect our great American Flag. http://Vote.DonaldJTrump.com\n",
      "We invested $2.5 TRILLION in the Military and we saved the Philly Shipyard. We passed VA Choice and VA Accountability. Al-Baghdadi and Soleimani are DEAD. I withdrew from the disastrous Iran Nuclear Deal—and instead of endless war, we are forging PEACE in the Middle East!\n",
      "3 days from now, we are going to win Pennsylvania! With your support, we will continue to bring back your jobs, and cut your taxes & regulations. Biden would wipe out your factories, ship your jobs to China, raise your taxes, & eliminate private healthcare!\n",
      "3 days from now, we are going to win Pennsylvania! With your support, we will continue to bring back your jobs, and cut your taxes & regulations. Biden would wipe out your factories, ship your jobs to China, raise your taxes, & eliminate private healthcare!\n",
      "3 days from now, we are going to win Pennsylvania! With your support, we will continue to bring back your jobs, and cut your taxes & regulations. Biden would wipe out your factories, ship your jobs to China, raise your taxes, & eliminate private healthcare!\n",
      "3 days from now, we are going to win Pennsylvania! With your support, we will continue to bring back your jobs, and cut your taxes & regulations. Biden would wipe out your factories, ship your jobs to China, raise your taxes, & eliminate private healthcare!\n",
      "3 days from now, we are going to win Pennsylvania! With your support, we will continue to bring back your jobs, and cut your taxes & regulations. Biden would wipe out your factories, ship your jobs to China, raise your taxes, & eliminate private healthcare!\n",
      "3 days from now, we are going to win Pennsylvania! With your support, we will continue to bring back your jobs, and cut your taxes & regulations. Biden would wipe out your factories, ship your jobs to China, raise your taxes, & eliminate private healthcare!\n",
      "3 days from now, we are going to win Pennsylvania! With your support, we will continue to bring back your jobs, and cut your taxes & regulations. Biden would wipe out your factories, ship your jobs to China, raise your taxes, & eliminate private healthcare!\n",
      "3 days from now, we are going to win Pennsylvania! With your support, we will continue to bring back your jobs, and cut your taxes & regulations. Biden would wipe out your factories, ship your jobs to China, raise your taxes, & eliminate private healthcare!\n",
      "3 days from now, we are going to win Pennsylvania! With your support, we will continue to bring back your jobs, and cut your taxes & regulations. Biden would wipe out your factories, ship your jobs to China, raise your taxes, & eliminate private healthcare!\n"
     ]
    }
   ],
   "source": [
    "trump_tweets=[]\n",
    "for i in range(0,49):\n",
    "    browser.execute_script(\"window.scrollTo(0, document.body.scrollHeight);\")\n",
    "    time.sleep(10)\n",
    "    soup=bs(browser.html, 'html.parser')\n",
    "    span_div=soup.find_all('article', attrs={\"class\":\"css-1dbjc4n r-1loqt21 r-18u37iz r-1ny4l3l r-1udh08x r-1yt7n81 r-ry3cjt r-o7ynqc r-6416eg\", \"role\":\"article\", \"data-focusable\":\"true\"})\n",
    "    # skip_div=soup.find_all('span', attrs={\"data-testid\":\"socialContext\"})\n",
    "    # print(skip_div)\n",
    "    # span_div=soup.find_all('div', attrs={\"class\":\"css-901oao\", \"lang\":\"en\"} )\n",
    "    # trump_twitter=[]\n",
    "    for x in span_div:\n",
    "        # selection=bs(x, 'html.parser')\n",
    "        retweet=x.find('span', attrs={\"data-testid\":\"socialContext\"})\n",
    "        if retweet is None:\n",
    "            tweet=x.find('div', attrs={\"class\":\"css-901oao\", \"lang\":\"en\"} )\n",
    "            if tweet is not None:\n",
    "                tweets=tweet.text\n",
    "                print(tweet.text)\n",
    "                # trump_twitter.append(tweets)\n",
    "        \n",
    "                trump_tweets.append(tweets)\n",
    "              \n",
    "    # time.sleep(10)"
   ]
  },
  {
   "cell_type": "code",
   "execution_count": 83,
   "metadata": {},
   "outputs": [
    {
     "output_type": "stream",
     "name": "stdout",
     "text": [
      "[\n  \"\\\"Dominion-izing the Vote\\\"\",\n  \"\\u201cStatistical sampling to prove widespread voter fraud...multiple accounts of fraud and voting irregularities may overturn election\\u201d...call for paper ballots.  @RandPaul @OANN\",\n  \"Look at this in Wisconsin! A day AFTER the election, Biden receives a dump of 143,379 votes at 3:42AM, when they learned he was losing badly. This is unbelievable!\",\n  \"Thank you @DarrellIssa, so nice!\"\n]\n"
     ]
    }
   ],
   "source": [
    "print(json.dumps(trump_twitter, indent = 2))\n",
    " "
   ]
  },
  {
   "cell_type": "code",
   "execution_count": 84,
   "metadata": {
    "tags": []
   },
   "outputs": [],
   "source": [
    "# trump_tweets=[]\n",
    "# for i in range(0,200):\n",
    "#     browser.execute_script(\"window.scrollTo(0, document.body.scrollHeight);\")\n",
    "#     time.sleep(10)\n",
    "#     soup=bs(browser.html, 'html.parser')\n",
    "#     span_div=soup.find_all('article', attrs={\"class\":\"css-1dbjc4n r-1loqt21 r-18u37iz r-1ny4l3l r-o7ynqc r-6416eg\", \"role\":\"article\", \"data-focusable\":\"true\"})\n",
    "#     # skip_div=soup.find_all('span', attrs={\"data-testid\":\"socialContext\"})\n",
    "#     # print(skip_div)\n",
    "#     # span_div=soup.find_all('div', attrs={\"class\":\"css-901oao\", \"lang\":\"en\"} )\n",
    "#     trump_twitter=[]\n",
    "#     for x in span_div:\n",
    "#         # selection=bs(x, 'html.parser')\n",
    "#         retweet=x.find('span', attrs={\"data-testid\":\"socialContext\"})\n",
    "#         if retweet is None:\n",
    "#             tweet=x.find('div', attrs={\"class\":\"css-901oao\", \"lang\":\"en\"} )\n",
    "#             if tweet is not None:\n",
    "#                 tweets=tweet.text\n",
    "#                 print(tweet.text)\n",
    "#             trump_tweets.append(tweets)\n",
    "#             trump_twitter.append(tweets)\n",
    "#             # print()            \n",
    "#     # time.sleep(10)\n",
    "    "
   ]
  },
  {
   "cell_type": "code",
   "execution_count": 85,
   "metadata": {},
   "outputs": [],
   "source": [
    "# df=pd.DataFrame(trump_twitter)\n"
   ]
  },
  {
   "cell_type": "code",
   "execution_count": 86,
   "metadata": {},
   "outputs": [],
   "source": [
    "# df.head()"
   ]
  },
  {
   "cell_type": "code",
   "execution_count": null,
   "metadata": {},
   "outputs": [],
   "source": []
  },
  {
   "cell_type": "code",
   "execution_count": 87,
   "metadata": {},
   "outputs": [],
   "source": [
    "# df.to_csv('data/trump_twitter_thanksgiving_2020.csv',)"
   ]
  },
  {
   "cell_type": "code",
   "execution_count": 88,
   "metadata": {},
   "outputs": [],
   "source": [
    "tdf=pd.DataFrame(trump_tweets)"
   ]
  },
  {
   "cell_type": "code",
   "execution_count": 89,
   "metadata": {},
   "outputs": [
    {
     "output_type": "execute_result",
     "data": {
      "text/plain": [
       "                                                   0\n",
       "0                   Have a great life General Flynn!\n",
       "1                             Great people. Tonight!\n",
       "2                                    Great job Mark!\n",
       "3  JUST IN:\\n\\nCommonwealth court orders a Friday...\n",
       "4                                          Big news!"
      ],
      "text/html": "<div>\n<style scoped>\n    .dataframe tbody tr th:only-of-type {\n        vertical-align: middle;\n    }\n\n    .dataframe tbody tr th {\n        vertical-align: top;\n    }\n\n    .dataframe thead th {\n        text-align: right;\n    }\n</style>\n<table border=\"1\" class=\"dataframe\">\n  <thead>\n    <tr style=\"text-align: right;\">\n      <th></th>\n      <th>0</th>\n    </tr>\n  </thead>\n  <tbody>\n    <tr>\n      <th>0</th>\n      <td>Have a great life General Flynn!</td>\n    </tr>\n    <tr>\n      <th>1</th>\n      <td>Great people. Tonight!</td>\n    </tr>\n    <tr>\n      <th>2</th>\n      <td>Great job Mark!</td>\n    </tr>\n    <tr>\n      <th>3</th>\n      <td>JUST IN:\\n\\nCommonwealth court orders a Friday...</td>\n    </tr>\n    <tr>\n      <th>4</th>\n      <td>Big news!</td>\n    </tr>\n  </tbody>\n</table>\n</div>"
     },
     "metadata": {},
     "execution_count": 89
    }
   ],
   "source": [
    "tdf.head()"
   ]
  },
  {
   "cell_type": "code",
   "execution_count": 90,
   "metadata": {},
   "outputs": [],
   "source": [
    "tdf.to_csv('data/trump_tweets_thanksgiving_2020.csv', index=True, )"
   ]
  },
  {
   "cell_type": "code",
   "execution_count": 91,
   "metadata": {},
   "outputs": [],
   "source": [
    "# len(df)"
   ]
  },
  {
   "cell_type": "code",
   "execution_count": 92,
   "metadata": {},
   "outputs": [
    {
     "output_type": "execute_result",
     "data": {
      "text/plain": [
       "249"
      ]
     },
     "metadata": {},
     "execution_count": 92
    }
   ],
   "source": [
    "len(tdf)"
   ]
  },
  {
   "cell_type": "code",
   "execution_count": 93,
   "metadata": {
    "tags": []
   },
   "outputs": [],
   "source": [
    "# soup=bs(browser.html, 'html.parser')\n",
    "\n",
    "# # tweet_details = {\"class\": \"tweet\", \"data-name\": \"Mars Weather\"}\n",
    "# tweet= soup.find_all('div', )\n",
    "# political_tweet = tweet_soup.find(\"div\", attrs=tweet_details)\n",
    "\n"
   ]
  },
  {
   "cell_type": "code",
   "execution_count": 94,
   "metadata": {},
   "outputs": [],
   "source": [
    "# next = soup.find_all('div', attrs={\"dir\":\"auto\"} )"
   ]
  },
  {
   "cell_type": "code",
   "execution_count": 95,
   "metadata": {
    "tags": []
   },
   "outputs": [],
   "source": [
    "# pprint(deep, indent=4)"
   ]
  },
  {
   "cell_type": "code",
   "execution_count": 96,
   "metadata": {},
   "outputs": [],
   "source": [
    "# deep=soup.find_all('span', attrs={\"class\":\"css-901oao css-16my406 r-1qd0xha r-ad9z0x r-bcqeeo r-qvutc0\"} )\n",
    "# data-testid=\"caret\""
   ]
  },
  {
   "cell_type": "code",
   "execution_count": 97,
   "metadata": {
    "tags": []
   },
   "outputs": [],
   "source": [
    "# pprint(next)"
   ]
  },
  {
   "cell_type": "code",
   "execution_count": 98,
   "metadata": {},
   "outputs": [],
   "source": [
    "# span_div=soup.find_all('div', attrs={\"class\":\"css-901oao\", \"lang\":\"en\"} )"
   ]
  },
  {
   "cell_type": "code",
   "execution_count": 99,
   "metadata": {},
   "outputs": [],
   "source": [
    "# for x in span_div:\n",
    "#    print(x.text)"
   ]
  },
  {
   "cell_type": "code",
   "execution_count": 100,
   "metadata": {},
   "outputs": [],
   "source": [
    "# browser.execute_script(\"window.scrollTo(0, -document.body.scrollHeight);\")\n",
    "# setInterval(function(){ scrollTo(0, document.body.scrollHeight) }, 2500)"
   ]
  },
  {
   "cell_type": "code",
   "execution_count": 101,
   "metadata": {},
   "outputs": [],
   "source": [
    "# browser.execute_script(\"function(){ scrollTo(0, document.body.scrollHeight) }, 2500\")"
   ]
  },
  {
   "cell_type": "code",
   "execution_count": null,
   "metadata": {},
   "outputs": [],
   "source": []
  }
 ],
 "metadata": {
  "kernelspec": {
   "name": "python3",
   "display_name": "Python 3.8.5 64-bit ('anaconda3': conda)",
   "metadata": {
    "interpreter": {
     "hash": "e134e05457d34029b6460cd73bbf1ed73f339b5b6d98c95be70b69eba114fe95"
    }
   }
  },
  "language_info": {
   "codemirror_mode": {
    "name": "ipython",
    "version": 3
   },
   "file_extension": ".py",
   "mimetype": "text/x-python",
   "name": "python",
   "nbconvert_exporter": "python",
   "pygments_lexer": "ipython3",
   "version": "3.8.5-final"
  }
 },
 "nbformat": 4,
 "nbformat_minor": 2
}